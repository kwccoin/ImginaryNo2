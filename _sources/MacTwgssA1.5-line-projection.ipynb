{
 "cells": [
  {
   "cell_type": "markdown",
   "id": "13648e87-80e0-48af-a5a8-df36098710d5",
   "metadata": {},
   "source": [
    "# 1.5 Thinking the impossible, even real"
   ]
  },
  {
   "cell_type": "markdown",
   "id": "9d34c910-c3ce-450a-9ecf-7c4d4caae2d3",
   "metadata": {},
   "source": [
    "Imagine are three beings Red, Green and Blue living in a one dimension world.  This will be our world for this whole paper/web site/pdf.\n"
   ]
  },
  {
   "cell_type": "code",
   "execution_count": 21,
   "id": "a219babc",
   "metadata": {},
   "outputs": [
    {
     "data": {
      "text/plain": [
       "'\\n# so far no need\\ndef deg2rad(deg):\\n    return deg * pi / 180\\n\\nplt.plot([0, r * cos(deg2rad(90))], [0, r * sin( deg2rad(90))], color = \"red\")\\nplt.plot([0, r * cos(deg2rad(45))], [0, r * sin( deg2rad(45))], color = \"black\")\\n\\n'"
      ]
     },
     "execution_count": 21,
     "metadata": {},
     "output_type": "execute_result"
    },
    {
     "data": {
      "image/png": "[encoded data removed]",
      "text/plain": [
       "<Figure size 640x480 with 1 Axes>"
      ]
     },
     "metadata": {},
     "output_type": "display_data"
    }
   ],
   "source": [
    "%matplotlib inline\n",
    "# modifed based on https://dev.to/baronsindo/plotting-a-circle-in-python-with-angles-m0c\n",
    "import matplotlib.pyplot as plt\n",
    "from numpy import sin, cos, pi, linspace #extra t\n",
    "# add a center point\n",
    "\n",
    "r = 1.0\n",
    "on_height = 1.0\n",
    "max_xlimits = 5.0\n",
    "max_yUpper = 3.0\n",
    "min_yLower = -1.0\n",
    "\n",
    "plt.plot(0,r, color = 'blue', marker = 'o')\n",
    "\n",
    "# generate a circle with radius 1\n",
    "angles = linspace(0 * pi, 2 * pi, 100) \n",
    "#print(angles)\n",
    "xs = cos(angles)\n",
    "ys = sin(angles) + on_height\n",
    "\n",
    "# draw the cirlce\n",
    "plt.plot(xs, ys, color = 'green')\n",
    "plt.xlim(-max_xlimits,max_xlimits) # -r, r)\n",
    "plt.ylim(min_yLower,max_yUpper) # -r, r)\n",
    "plt.gca().set_aspect('equal')\n",
    "\n",
    "#draw the line\n",
    "#plt.plot([-4, 4], [0, 0], color = 'red')\n",
    "plt.plot([-max_xlimits,max_xlimits], [0, 0], color = 'red') # 0,0 the point it go through\n",
    "\n",
    "plt.plot([0,0], [0, +2], color = 'cyan') \n",
    "plt.plot(0, 0, marker = 'X', color = 'cyan')\n",
    "plt.plot(r-0.5, 0, marker = 'P', color = 'blue') # P for plus\n",
    "plt.plot([0,r-0.5], [+2, 0], color = 'blue') \n",
    "plt.plot(r+1.5, 0, marker = 'o', color = 'purple')\n",
    "plt.plot([0,r+1.5], [+2, 0], color = 'purple') \n",
    "\n",
    "plt.savefig('circle2real.png')\n",
    "\n",
    "# ??? need 3 arrow \n",
    "# ??? project from north point to south point gr(0,0)\n",
    "# ??? need $\\theta$ and $\\phi$ \n",
    "\n",
    "'''\n",
    "# so far no need\n",
    "def deg2rad(deg):\n",
    "    return deg * pi / 180\n",
    "\n",
    "plt.plot([0, r * cos(deg2rad(90))], [0, r * sin( deg2rad(90))], color = \"red\")\n",
    "plt.plot([0, r * cos(deg2rad(45))], [0, r * sin( deg2rad(45))], color = \"black\")\n",
    "\n",
    "'''"
   ]
  },
  {
   "cell_type": "markdown",
   "id": "1c5eafee",
   "metadata": {},
   "source": [
    "Red lived on a cirlce with radius 1 and sit on the world of Green being, who live in a world of infinitely long \"real number line\"\n",
    "\n",
    "It is easier for visualation as a 2D person but after that we can deal with the world according to R/G being:\n",
    "\n",
    "From the \"north pole\" of that circle you draw a line towards the line then move left or right and map each point of the circle to the line\n",
    "        \n",
    "Can you see that each point of the circle can project to each point to the line (techncailly not the +/- infinite as you only have one north pole la can +/- infinite meant? let us not go that far.  But even a bit short ...  do you find it amazing?\n",
    "\n",
    "We can do a bit maths in Annex 2 but let me summerise that\n",
    "\n",
    "$$\n",
    "From 2D world, the l is 2 tan(\\theta); and the (x,y) is (sin(2\\theta), cos(2\\theta))\n",
    "\n",
    "From 1 world, the l of the Green being is, well, just l, but the arc length couting from the 0 of Red circle is 2 * tan_{-1}(l/2)\n",
    "\n",
    "In both cases you can see that whilst Green being's l is (-\\inf, +\\inf), Red being's circle is limited by its 2\\pi.\n",
    "$$\n",
    "\n",
    "    \n",
    "    How can it be?\n",
    "    The circle has a circumference of 2pi\n",
    "    The length of the line is ... infinity \n",
    "    How can you map finite to infinitity\n",
    "    \n",
    "    Can you really see the world in a sand?\n",
    "    \n",
    "    Or even worst as in my most dislike Fan Yin (or no feeling Indian) \n",
    "        the world is all but a reflection of the pearl 因佗羅網\n",
    "        Just watch one water dew on the leave you can see the whole world in it\n",
    "    \n",
    "    "
   ]
  },
  {
   "cell_type": "markdown",
   "id": "53257aa9-1ac8-42c3-be40-bd1d55e96943",
   "metadata": {},
   "source": [
    "Anyway ... next let us look at some number system as I promise to present on at least one!"
   ]
  },
  {
   "cell_type": "code",
   "execution_count": 24,
   "id": "98e4d139-038b-470b-9cf7-4bcc82a15070",
   "metadata": {},
   "outputs": [
    {
     "name": "stdout",
     "output_type": "stream",
     "text": [
      "2023-09-24 21:07:32.358175\n"
     ]
    }
   ],
   "source": [
    "import datetime\n",
    "print(f'printed on {datetime.datetime.now()}')\n"
   ]
  },
  {
   "cell_type": "markdown",
   "id": "f36ac3fd",
   "metadata": {},
   "source": []
  }
 ],
 "metadata": {
  "kernelspec": {
   "display_name": "Python 3 (ipykernel)",
   "language": "python",
   "name": "python3"
  },
  "language_info": {
   "codemirror_mode": {
    "name": "ipython",
    "version": 3
   },
   "file_extension": ".py",
   "mimetype": "text/x-python",
   "name": "python",
   "nbconvert_exporter": "python",
   "pygments_lexer": "ipython3",
   "version": "3.11.5"
  }
 },
 "nbformat": 4,
 "nbformat_minor": 5
}
