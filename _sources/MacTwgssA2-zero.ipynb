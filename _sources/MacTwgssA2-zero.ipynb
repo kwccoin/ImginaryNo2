{
 "cells": [
  {
   "cell_type": "markdown",
   "id": "13648e87-80e0-48af-a5a8-df36098710d5",
   "metadata": {},
   "source": [
    "# 2. Imagine about nothing"
   ]
  },
  {
   "cell_type": "markdown",
   "id": "0971264e",
   "metadata": {},
   "source": [
    "     Leopold Kronecker, who once wrote that \n",
    "     \n",
    "     --> \"God made the integers; all else is the work of man.\"\n",
    "     \n",
    "         - a key and very dominant mathematicans who object irrational number, pi, set theory, ... etc. \n",
    "         - It was finally proved that pi is transcendetal number ...\n",
    "         -  but as he said what is the point, they do not \"exist\" ! Illusion!!!\n",
    "         - (In a way he is not alone, \n",
    "                 a lot of mathmaticians are also not very uncomforable with negative number ...)\n",
    " \n",
    "     --> Let us do zero first and then imaginery number"
   ]
  },
  {
   "cell_type": "code",
   "execution_count": 1,
   "id": "2fd8f5f3",
   "metadata": {},
   "outputs": [
    {
     "name": "stdout",
     "output_type": "stream",
     "text": [
      "/Users/ngcchk/Documents/GitHub/gpd2-win-unity1/ipadred-rain/imgno_book1/imgnobk1\n"
     ]
    }
   ],
   "source": [
    "import os\n",
    "\n",
    "print(os.getcwd())"
   ]
  },
  {
   "cell_type": "code",
   "execution_count": 2,
   "id": "39dadd0d",
   "metadata": {},
   "outputs": [
    {
     "ename": "ModuleNotFoundError",
     "evalue": "No module named 'numpy'",
     "output_type": "error",
     "traceback": [
      "\u001b[0;31m---------------------------------------------------------------------------\u001b[0m",
      "\u001b[0;31mModuleNotFoundError\u001b[0m                       Traceback (most recent call last)",
      "Cell \u001b[0;32mIn[2], line 1\u001b[0m\n\u001b[0;32m----> 1\u001b[0m \u001b[38;5;28;01mimport\u001b[39;00m \u001b[38;5;21;01mlib\u001b[39;00m\u001b[38;5;21;01m.\u001b[39;00m\u001b[38;5;21;01mmain\u001b[39;00m\u001b[38;5;21;01m.\u001b[39;00m\u001b[38;5;21;01ma0_babylon_pos_0\u001b[39;00m\n",
      "File \u001b[0;32m~/Documents/GitHub/gpd2-win-unity1/ipadred-rain/imgno_book1/imgnobk1/lib/main/a0_babylon_pos_0.py:3\u001b[0m\n\u001b[1;32m      1\u001b[0m \u001b[38;5;66;03m#%matplotlib inline\u001b[39;00m\n\u001b[0;32m----> 3\u001b[0m \u001b[38;5;28;01mimport\u001b[39;00m \u001b[38;5;21;01mnumpy\u001b[39;00m \u001b[38;5;28;01mas\u001b[39;00m \u001b[38;5;21;01mnp\u001b[39;00m\n\u001b[1;32m      4\u001b[0m \u001b[38;5;28;01mimport\u001b[39;00m \u001b[38;5;21;01mmatplotlib\u001b[39;00m\u001b[38;5;21;01m.\u001b[39;00m\u001b[38;5;21;01mpyplot\u001b[39;00m \u001b[38;5;28;01mas\u001b[39;00m \u001b[38;5;21;01mplt\u001b[39;00m\n\u001b[1;32m      5\u001b[0m \u001b[38;5;28;01mfrom\u001b[39;00m \u001b[38;5;21;01mPIL\u001b[39;00m \u001b[38;5;28;01mimport\u001b[39;00m Image\n",
      "\u001b[0;31mModuleNotFoundError\u001b[0m: No module named 'numpy'"
     ]
    }
   ],
   "source": [
    "import lib.main.a0_babylon_pos_0\n"
   ]
  },
  {
   "cell_type": "code",
   "execution_count": null,
   "id": "26b36600",
   "metadata": {},
   "outputs": [],
   "source": [
    "lib.main.a0_babylon_pos_0.display_img(1)\n"
   ]
  },
  {
   "cell_type": "markdown",
   "id": "74b093da",
   "metadata": {},
   "source": [
    "\n",
    "            note \n",
    "            a) there are only 2 symbols 1 and 10\n",
    "            b) every number is actually by placing and counting number 1 and number 10 out; FULLY\n",
    "            c) reaching 59 then what ... 60 is a problem let us skip it first ;-P\n",
    "       "
   ]
  },
  {
   "cell_type": "code",
   "execution_count": null,
   "id": "c6790d25",
   "metadata": {},
   "outputs": [],
   "source": [
    "lib.main.a0_babylon_pos_0.display_img(2)"
   ]
  },
  {
   "cell_type": "markdown",
   "id": "2557245e",
   "metadata": {},
   "source": [
    "            \n",
    "            d) Babylon use 60 as based and hence 1 is 60 * 60 *...\n",
    "            \n",
    "                e.g. 1 here is 60^3 ...\n",
    "            \n",
    "            e) A number's value is based on its position\n",
    "            \n",
    "                The 1 above is 1 * 60 * 60 * 60 because its postion after you read in the hole number\n",
    "            \n",
    "                In fact even worst you cannot tell what 1 meant until you have the whole number\n",
    "                    as it uses the Big Endian convention \n",
    "                    i.e. until you reach the end of a number you do not know what is 1\n",
    "                    It can be 1, 60, 60*60, 60*60*... you do not know\n",
    "                    (Cf the little endian for this number 40, 46, 57, 1\n",
    "                     and after reading 40 you know it is just 40, \n",
    "                     and after reading 46 as \"nd number you know it is 46 * 60 ...\n",
    "                     you do not need to wait for the whole number\n",
    "                     or fight the egg head war of big ednian vs little endian )\n",
    "                     \n",
    "                The Roman does not use postional system and hence has no such issue\n",
    "                    The only trick to remember if you see a small number earlier than a larger number deduct it\n",
    "                    XL and LX where X is 10 and L is 50, what are the numbers ?\n",
    "                    You do not need to know the position of X or L is you know it is always 10 and 50\n",
    "                    In fact, there is no need of zero (except zero itself called nulla)\n",
    "                    \n",
    "                Actually Hans's does not really use a positional system \n",
    "                    as 2,0001 is really 2 thousands and one not 2001\n",
    "                    still have zero to sound better\n",
    "                     \n",
    "            f) For the issue 1574640 is 15,7 or 1,57 ... Babylon use gap\n",
    "            \n",
    "                i.e. 1 gap 57 gap 46 gap 40\n",
    "                \n",
    "            g) How about 60, 600, ... \n",
    "            \n",
    "                seems to rely upon common sense?\n",
    "            \n",
    "            h) But what about 601 6001 ... Big problem\n",
    "            \n",
    "               The problem is that there is no zero and they use a positional system!!!\n",
    "            "
   ]
  },
  {
   "cell_type": "code",
   "execution_count": null,
   "id": "abb3ba95",
   "metadata": {},
   "outputs": [],
   "source": [
    "lib.main.a0_babylon_pos_0.display_img(3)"
   ]
  },
  {
   "cell_type": "markdown",
   "id": "806c43c7",
   "metadata": {},
   "source": [
    "    \"a cuneiform tablet (actually AO 17264 in the Louvre collection in Paris)\"\n",
    "\n",
    "    we have\n",
    "\n",
    "        2 ? 27    ??         6      ?          9  \n",
    "    \n",
    "         gap,   large gap,    medium size gap \n",
    "         \n",
    "    What is it?\n",
    "    \n",
    "        2,27 square is 6 <0> 9 ...\n",
    "    \n",
    "        2<gap>27  <very big gap>   6<larger gap>9\n",
    "        \n",
    "        \n",
    "        \n",
    "    This is intrepreted as \n",
    "    \n",
    "    2*60+27 = 147 * 147 = 21,609 or 6*60*60+9 \n",
    "    \n",
    "    Thanks you very much for the attention!!!!!\n",
    "    "
   ]
  },
  {
   "cell_type": "markdown",
   "id": "fe09267e",
   "metadata": {},
   "source": [
    "\n",
    "    Babylon consider zero as nothingness, and does not exist\n",
    "    But they need at least in their positional based number system\n",
    "    \n",
    "    Even if zero does not exist\n",
    "    but one may have to accept its usefulness\n",
    "    and use it ... at least that is what the Babylonian did\n",
    "    "
   ]
  },
  {
   "cell_type": "markdown",
   "id": "59bb534b",
   "metadata": {},
   "source": [
    "    \n",
    "    You may think it does not exist, but your system really need it wow!!!!\n",
    "    \n",
    "    IT DOES NOT EXIST\n",
    "    IT IS NOT REAL \n",
    "    THERE IS NOTHING THERE!!!!\n",
    "\n",
    "    Still...\n",
    "    \n",
    "    "
   ]
  },
  {
   "cell_type": "markdown",
   "id": "9ce09f53",
   "metadata": {},
   "source": [
    "    Many maths and possibly many religion and philosophy are like that!!! \n",
    "    \n",
    "    As said only integer really exist, all are ... (the guy is mad mathematicans btw)!\n"
   ]
  }
 ],
 "metadata": {
  "kernelspec": {
   "display_name": "Python 3 (ipykernel)",
   "language": "python",
   "name": "python3"
  },
  "language_info": {
   "codemirror_mode": {
    "name": "ipython",
    "version": 3
   },
   "file_extension": ".py",
   "mimetype": "text/x-python",
   "name": "python",
   "nbconvert_exporter": "python",
   "pygments_lexer": "ipython3",
   "version": "3.11.5"
  }
 },
 "nbformat": 4,
 "nbformat_minor": 5
}
