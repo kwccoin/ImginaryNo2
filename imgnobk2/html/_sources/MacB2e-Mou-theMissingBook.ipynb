{
 "cells": [
  {
   "cell_type": "markdown",
   "id": "10a210a6-998d-4038-92d1-80d41f82a27f",
   "metadata": {},
   "source": [
    "# Mou The Missing Book?"
   ]
  }
 ],
 "metadata": {
  "kernelspec": {
   "display_name": "Python 3 (ipykernel)",
   "language": "python",
   "name": "python3"
  },
  "language_info": {
   "codemirror_mode": {
    "name": "ipython",
    "version": 3
   },
   "file_extension": ".py",
   "mimetype": "text/x-python",
   "name": "python",
   "nbconvert_exporter": "python",
   "pygments_lexer": "ipython3",
   "version": "3.11.5"
  }
 },
 "nbformat": 4,
 "nbformat_minor": 5
}
