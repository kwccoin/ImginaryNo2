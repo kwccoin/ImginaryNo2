{
 "cells": [
  {
   "cell_type": "markdown",
   "metadata": {},
   "source": [
    "# M as information\n",
    "\n"
   ]
  },
  {
   "cell_type": "markdown",
   "metadata": {},
   "source": [
    "## Some basic idea of M in this way\n",
    "\n",
    "### Hash\n",
    "\n",
    "### It is me \n",
    "\n",
    "As a way to prove of ownership so one can transact ... \n",
    "\n",
    "### The public - private way\n",
    "\n",
    "### The new way of using a curve not prime number \n",
    "\n",
    "### Some illussion\n",
    "\n",
    "#### Bitcoin details\n",
    "\n",
    "#### Dodgcoin\n",
    "\n",
    "#### Etherenum\n",
    "\n",
    "#### Monero\n",
    "\n",
    "### Demo of technology\n",
    "\n",
    "#### Blockchain\n",
    "#### wallet \n",
    "#### Transaction\n",
    "#### contract? distribute computing ?\n",
    "#### Mining\n",
    "\n",
    "\n",
    "\n"
   ]
  },
  {
   "cell_type": "code",
   "execution_count": null,
   "metadata": {},
   "outputs": [],
   "source": []
  }
 ],
 "metadata": {
  "kernelspec": {
   "display_name": "Python 3 (ipykernel)",
   "language": "python",
   "name": "python3"
  },
  "language_info": {
   "codemirror_mode": {
    "name": "ipython",
    "version": 3
   },
   "file_extension": ".py",
   "mimetype": "text/x-python",
   "name": "python",
   "nbconvert_exporter": "python",
   "pygments_lexer": "ipython3",
   "version": "3.11.5"
  }
 },
 "nbformat": 4,
 "nbformat_minor": 4
}
