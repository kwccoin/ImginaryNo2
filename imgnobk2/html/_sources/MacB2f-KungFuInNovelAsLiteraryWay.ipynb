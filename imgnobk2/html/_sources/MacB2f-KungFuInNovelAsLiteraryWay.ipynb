{
 "cells": [
  {
   "cell_type": "markdown",
   "id": "4fd83c11-6327-4319-991c-4e3709771e01",
   "metadata": {},
   "source": [
    "# Kung Fu In Novel as Literary Way?"
   ]
  }
 ],
 "metadata": {
  "kernelspec": {
   "display_name": "Python 3 (ipykernel)",
   "language": "python",
   "name": "python3"
  },
  "language_info": {
   "codemirror_mode": {
    "name": "ipython",
    "version": 3
   },
   "file_extension": ".py",
   "mimetype": "text/x-python",
   "name": "python",
   "nbconvert_exporter": "python",
   "pygments_lexer": "ipython3",
   "version": "3.11.5"
  }
 },
 "nbformat": 4,
 "nbformat_minor": 5
}
