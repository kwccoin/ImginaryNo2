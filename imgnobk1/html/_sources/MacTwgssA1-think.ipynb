{
 "cells": [
  {
   "cell_type": "markdown",
   "id": "13648e87-80e0-48af-a5a8-df36098710d5",
   "metadata": {},
   "source": [
    "# 1. Thinking in another dimension"
   ]
  },
  {
   "cell_type": "markdown",
   "id": "206c52e9-8438-4172-a39f-2c9941ca79e6",
   "metadata": {},
   "source": [
    "    Thinking in another dimension\n",
    "    \n",
    "    ... even it does not exist\n",
    "    ... even if it is impossible to think about\n",
    "    "
   ]
  },
  {
   "cell_type": "markdown",
   "id": "d55abf38-a11e-4ccc-b7cf-868e3fea263c",
   "metadata": {},
   "source": [
    "\n",
    "    My aim is not to \"teach\" maths \n",
    "        not qualified first in both physics and maths\n",
    "        instead just want to some number systems and its application in physics\n",
    "        \n",
    "    My more important objective is to \n",
    "        explore how human can imagine outside the box\n",
    "        and how one can see another dimension \n",
    "            even if it does not exist \"really\" from its own mental world\n",
    "    \n",
    "    Or perhaps to appreciate different dimension of life...\n",
    "           And even if one does not agree to it ... \n",
    "    \n",
    "    And well, at least to wonder, \n",
    "           And curious ...\n",
    "    "
   ]
  },
  {
   "cell_type": "markdown",
   "id": "87e2b1b7",
   "metadata": {},
   "source": [
    "\n",
    "    My aim is not to \"teach\" maths \n",
    "        not qualified first in both physics and maths\n",
    "        instead just want to some number systems and its application in physics\n",
    "        \n",
    "    My more important objective is to \n",
    "        explore how human can imagine outside the box\n",
    "        and how one can see another dimension \n",
    "            even if it does not exist \"really\" from its own mental world\n",
    "    \n",
    "    Or perhaps to appreciate different dimension of life...\n",
    "           And even if one does not agree to it ... \n",
    "    \n",
    "    And well, at least to wonder, \n",
    "           And curious ...\n",
    "    "
   ]
  },
  {
   "cell_type": "markdown",
   "id": "e2f035ce",
   "metadata": {},
   "source": [
    "    There are many maths and physics in my life I think very striking when I encounter it the very first time, such as :\n",
    "    "
   ]
  },
  {
   "cell_type": "markdown",
   "id": "37617682",
   "metadata": {},
   "source": [
    "> Chicken and Rabbit in one cage with 4 heads and 6 legs how many ...\n",
    "\n",
    "> what is negative number\n",
    "\n",
    "> It is not that /sqrt{2} is irrational or not, but the proof by contradiction\n",
    "\n",
    "> imaginery number is real as action and there are at least 3 kinds of them (2 of which study here)\n",
    "  \n",
    "> real number's infinity is larger than integer number's infinity\n",
    "            (technical terms is real number is uncountable)\n",
    "    \n",
    "> any formal mathematical system which is better than arthimetic will \n",
    "            have statement in it that cannot be proven or disped in that system\n",
    "            \n",
    "            (Or Should we say Mathematical Systems Always Contain Unprovable Truths)\n",
    "            And even worst (or brillant?) someone proved this theorem of unprovable truth!\n",
    "        \n",
    "> in real world, triangle is either >=< 180 degree, which one then?\n",
    "            only one is the truth and is real\n",
    "            then why bother and what is the point of having 3 geometries\n",
    "            and even worst ... find all of them are useful!!!\n",
    "        \n",
    "> maths is useful and relevant to reality\n",
    "            But most suprising at all, is why maths is useful at all?\n",
    "            Why a human endeavour can have relevance to the world?\n",
    "            And what is the limit of this approach to life?\n",
    "            Something strange e.g. triangle interior angle sume is >=< \n",
    "            but reality all seems to work in some aspects of reality\n",
    "            even though at any one time it cannot be logically all true but one\n",
    "\n",
    "> some quantity in the universe is discrete and some continuous\n",
    "\n",
    "> some happening in the universe is random until we observe\n",
    "\n",
    "> there is something invariant like speed of light at least to some degree\n",
    "\n",
    "> there is law of physics\n",
    "\n",
    "OK too much BS, let use start with a \"simple\" example:\n"
   ]
  }
 ],
 "metadata": {
  "kernelspec": {
   "display_name": "Python 3 (ipykernel)",
   "language": "python",
   "name": "python3"
  },
  "language_info": {
   "codemirror_mode": {
    "name": "ipython",
    "version": 3
   },
   "file_extension": ".py",
   "mimetype": "text/x-python",
   "name": "python",
   "nbconvert_exporter": "python",
   "pygments_lexer": "ipython3",
   "version": "3.11.5"
  }
 },
 "nbformat": 4,
 "nbformat_minor": 5
}
