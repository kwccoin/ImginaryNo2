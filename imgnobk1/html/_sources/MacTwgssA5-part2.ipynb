{
 "cells": [
  {
   "cell_type": "markdown",
   "id": "13648e87-80e0-48af-a5a8-df36098710d5",
   "metadata": {},
   "source": [
    "# 5. Part 2 - on reality using imaginery number"
   ]
  },
  {
   "cell_type": "code",
   "execution_count": 1,
   "id": "43b60a60",
   "metadata": {},
   "outputs": [],
   "source": [
    "#import lib.main.e5_i_anim_hyperplot\n",
    "\n",
    "#print(lib.main.e5_i_anim_hyperplot.lorentz_t_t00())\n",
    "#print(lib.main.e5_i_anim_hyperplot.lorentz_t_f00())\n",
    "#lib.main.e5_i_anim_hyperplot.hyperplot_and_tell()"
   ]
  },
  {
   "cell_type": "markdown",
   "id": "9b060314-37c4-4672-8dfa-9bca2d8e14ca",
   "metadata": {},
   "source": [
    "## The real world\n",
    "\n",
    "### part 1 (should be A3 or repeat) Galieo relativity and the absolut time\n",
    "\n",
    "### thinking in relative terms, at least for velocity\n",
    "\n",
    "As discussed before, Galieo actual should be credited with the one who do the thinking in relativity.  Later, Netwon three laws are all consistent with these view.  \n",
    "\n",
    "Bascially, there is implicity absolute time.  \n",
    "\n",
    "But velocity is relative.  There is no absolute velocity and each observer has its own view of velocity.  In particular, all observer basically see himself/herself as stationary and everything is moving.  And by observing others, he knows that might be he is at rest or in a velocity, but all the others are relative to him.  If he travels 100 km/hr, a train travel 110 km/hr would look like 10 km/hr.  There is no absolute velocity but observer dependent.\n",
    "\n",
    "This is how the worldline shift when one change from one observer to another. You can look that the time does not change.  All event occur with the same time frame (5 unit of time).  It is just change of the velocity (but not randomly as each velocity is related to the others when change in observer.  Still not absolute one.)"
   ]
  },
  {
   "cell_type": "code",
   "execution_count": null,
   "id": "7f8ee8b1-599b-487a-8bf9-82bd917a42e2",
   "metadata": {},
   "outputs": [],
   "source": []
  },
  {
   "cell_type": "markdown",
   "id": "add35b66-26a4-4a81-94a0-1668a9014e7f",
   "metadata": {},
   "source": [
    "### the surprise - there is a constant light speed\n",
    "\n",
    "Whilst we can empathy and imagine, one can never be two observers at the same time.   Hence, there is no absolute velocity.  Then the bad news as we found that light velocity is absolute (in inertal frame).  The above diagram shift everthing.  A being travelled at half light speed should see light speed cut half, instead see it the same.  And there is no reason why it cannot exceed light speed.  Why is there a constant here?"
   ]
  },
  {
   "cell_type": "markdown",
   "id": "f0cb34d3-c9c7-4722-9540-b11c439fcd05",
   "metadata": {},
   "source": [
    "### A new constant in Town and it is the difference that matters\n",
    "\n",
    "Here the new kid or constant or invariant is not time itself (or space for that matter), but a joint-in-the-hip of them both.  \n",
    "\n",
    "Bascially it is the different between time and space that is constant for any event.  \n",
    "\n",
    "The world can now be understand, like using imaginery/complex number for rotation over real number lines, by using split imaginery/complex number for rotation over the spacetime.\n",
    "\n",
    "The world is divided into 3 groups (and let us ignore y and z axis for the discussion):\n",
    "\n",
    "1. The light wave which has the difference as zero:\n",
    "   \n",
    "&emsp; &emsp; - $0^2       = ct^2 - x^2$\n",
    "2. The spacetime world have a timespace constant agreed by all observers but no independent time and space value can be agreed on, like velocity\n",
    "   \n",
    "&emsp; 2.1. where we have a future and a past\n",
    "\n",
    "&emsp; &emsp; - $mytime    = ct^2 - x^2$ ???\n",
    "    \n",
    "&emsp; 2.2. The space world which we have seperation and distance\n",
    "\n",
    "&emsp; &emsp; - $mydistance = ct^2 - x^2, but not length$ ???\n",
    "   \n",
    "In this world, because $0*whatever=0$ we know that light wave velocity is not affected by the velocity of whoever[<sup id=\"fn2-back\">5-2</sup>](#fn2). \n",
    "\n",
    "Which reflect the general forumla\n",
    "\n",
    "&emsp; $x^2 - (ct)^2 = constant$"
   ]
  },
  {
   "cell_type": "markdown",
   "id": "76ee6b02-8cd7-45ac-b60d-2af91ae5b9a4",
   "metadata": {},
   "source": [
    "To have a geometric understanding, we try to fix the light first.  As its speed is a constant, we can just use travel at 45 degree or 1 sec as one unit on the time axis pointing upwards and 300 million meter as one unit on the x axis.  In fact we usually take ct not just t and hence both x and y axis have the same unit.  2 observers crossing each other at one point , we will set that crossing point as origin, the speed they travel assume constant will be $v$ and $-v$ and the line of operation (as we can orient the world so that only x matters).  We will have a diagram like this:"
   ]
  },
  {
   "cell_type": "markdown",
   "id": "e46b9fb5-31d0-46d0-b722-121768b44376",
   "metadata": {},
   "source": [
    "###Graphic (2 observer, red at rest and green move at +v or to the right)"
   ]
  },
  {
   "cell_type": "markdown",
   "id": "27e294e7-a448-4f42-bf68-eb2966206268",
   "metadata": {},
   "source": [
    "###Graphic (same 2 observer, but green is the observer and is at rest and red move at -v or to the right)"
   ]
  },
  {
   "cell_type": "code",
   "execution_count": null,
   "id": "403e7cc1-efc2-4f75-9bde-989b1a9999f0",
   "metadata": {},
   "outputs": [],
   "source": [
    "### 4 or 2 graphic \n",
    "### then 2 to compare the difference between galileo or \"common sense\" and the light speed is a constant and hyperbola world\n"
   ]
  },
  {
   "cell_type": "markdown",
   "id": "cae07abb-edf1-4e9a-b977-19542cf5e770",
   "metadata": {},
   "source": [
    "Graphic see \n",
    "\n",
    "One observer (red, point upward as x=0 and t ever-increasing)\n",
    "Two observer (red + green)\n",
    "View from first (red point upward and green to the right)\n",
    "View from second (red point to the left and green now point upwards as at rest)\n",
    "Note the rotation is using hyperbola as whatever frame rotate there is a constant s^2 = t^2 - x^2\n",
    "\n",
    "And most important if you just look at time, you can see it shorten and so is length.  Becuase it is the difference between time and space that matters.  Individual dimension it change this way becaues of the negative side.  (BTW, some textbook do  x^2 - t^2.  )"
   ]
  },
  {
   "cell_type": "markdown",
   "id": "17b8842e-5395-4454-a900-eae94812a277",
   "metadata": {},
   "source": [
    "Time dilutin (GPS satellite)\n",
    "Length dilution (Muon)\n",
    "\n",
    "More complicated case not cover:\n",
    "\n",
    "1. Twin Paradox (a third blue observer, acceleration or doppler)\n",
    "2. Geometry change from inerteria to acceleration or Rindler not Gravity\n",
    "3. Then how about the whole geometry from flat to curved due to mass \n",
    "    (General, using projective and differntial geomtry, plus group ...)\n",
    "    (Not about acceleration as in 2, as gravity is not acceleration)\n",
    "4. other imaginery or complex  number like dual number \n"
   ]
  },
  {
   "cell_type": "markdown",
   "id": "0ab6ce3d-6410-4d63-b264-453a646fc154",
   "metadata": {},
   "source": [
    "Finaly, the complex number and split complex number has joined as Quantum Field Theory\n",
    "Or the wave travel in relativity manner, \n",
    "-- its vibration follow the complex number \n",
    "-- but its velociy follow the split complex number (a hyperbola worldline).  \n",
    "BTW, sadly that is already 50+ years ago.\n",
    "    \n",
    "Unfortunately we still do not have the wave onto the general relativity\n",
    "-- projective geomoetry and differential geometry ...\n",
    "    \n",
    "Thanks for your patient and attention.\n",
    "   "
   ]
  },
  {
   "cell_type": "markdown",
   "id": "eb922052-ce42-468f-ab9a-8c6d77a25813",
   "metadata": {},
   "source": [
    " \n",
    "We live briefly in these 2 imaginery number (and more) world.  \n",
    "    \n",
    "What you see is NOT real or at least NOT JUST REAL!"
   ]
  },
  {
   "cell_type": "markdown",
   "id": "8399b760",
   "metadata": {},
   "source": [
    "<ins>__Footnote__</ins>\n",
    "\n",
    "\n",
    "[<sup id=\"fn3-back\">5-3</sup>](#fn3)\n",
    "\n",
    "[<sup id=\"fn1\">5-1</sufp>](#fn1-back) Why there are constants like G, c, ... etc. or 1/??? is still a mystery to these days.\n",
    "\n",
    "[<sup id=\"fn2\">5-2</sufp>](#fn2-back) ??? velocity is same but can the time tick different when doing shift due to velocity, and if put a sensor on the light rate and if we move can the left and right sensor detect different time/distance even thought they measure the same velocity????\n",
    "\n",
    "\n",
    "[<sup id=\"fn3\">5-3</sufp>](#fn3-back) ???\n",
    "    \n"
   ]
  }
 ],
 "metadata": {
  "kernelspec": {
   "display_name": "Python 3 (ipykernel)",
   "language": "python",
   "name": "python3"
  },
  "language_info": {
   "codemirror_mode": {
    "name": "ipython",
    "version": 3
   },
   "file_extension": ".py",
   "mimetype": "text/x-python",
   "name": "python",
   "nbconvert_exporter": "python",
   "pygments_lexer": "ipython3",
   "version": "3.11.5"
  }
 },
 "nbformat": 4,
 "nbformat_minor": 5
}
