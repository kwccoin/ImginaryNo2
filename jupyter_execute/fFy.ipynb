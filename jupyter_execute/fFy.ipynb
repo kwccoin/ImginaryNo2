{
 "cells": [
  {
   "cell_type": "markdown",
   "metadata": {},
   "source": [
    "# testing jupyter-book ok using fFy examples\n",
    "\n",
    "from https://github.com/markjay4k/fourier-transform \n",
    "as only use matplotlib inline\n",
    "\n",
    "But there is no plot just wedge ..."
   ]
  },
  {
   "cell_type": "markdown",
   "metadata": {},
   "source": [
    "## Fourier Transform\n",
    "\n",
    "1. Fourier Transform is a generalized version of the Fourier Series\n",
    "2. It applies to both period and non periodic functions \n",
    "   - For periodic functions, the spectrum is discrete\n",
    "   - For non-period functions, the spectrum is continuous "
   ]
  },
  {
   "cell_type": "markdown",
   "metadata": {},
   "source": [
    "### Definitions\n",
    "\n",
    "#### Fourier Transform\n",
    "\n",
    "Fourier Transform of $f(x)$ is $F(k)$\n",
    "$$\n",
    "F(k) = \\mathcal{FT}\\{f(x)\\}\n",
    "$$\n",
    "\n",
    "$$\n",
    "F(k) = \\int_{-\\infty}^{\\infty}f(x) \\exp(-ikx)dx\n",
    "$$\n",
    "\n",
    "where $k=\\frac{2\\pi}{x}$ is called the \"wavenumber\""
   ]
  },
  {
   "cell_type": "markdown",
   "metadata": {},
   "source": [
    "#### Inverse Fourier Transform\n",
    "\n",
    "To go back to $f(x)$, the formula is\n",
    "\n",
    "$$\n",
    "f(x) = \\mathcal{FT}^{-1}\\{F(k)\\}\n",
    "$$\n",
    "\n",
    "$$\n",
    "f(x) = \\frac{1}{2\\pi} \\int_{-\\infty}^{\\infty}F(k) \\exp(ikx)dx\n",
    "$$"
   ]
  },
  {
   "cell_type": "markdown",
   "metadata": {},
   "source": [
    "Since $x$ and $k$ are inversely proportional, the \"size\" of $f(x)$ and $F(k)$ are inversely proportional. \n",
    "What this means is, \n",
    " - a compact $f(x)$ will have a broad spectrum.\n",
    " - a broad $f(x)$ will have a compact spectrum"
   ]
  },
  {
   "cell_type": "markdown",
   "metadata": {},
   "source": [
    "### Rectangle function\n",
    "\n",
    "The $rext_B(x)$ function is a rectangle centered at $x=0$ with $\\text{Height}=1$ and $\\text{Width}=B$. The Formula can be written as \n",
    "\n",
    "$$\n",
    "\\text{rect}_B(x) =\n",
    "\\begin{cases}\n",
    "0 & \\text{if} \\,\\,\\, |x| > B/2\\\\[2pt]\n",
    "1/2 & \\text{if} \\,\\,\\, |x| = B/2 \\\\[2pt]\n",
    "1 & \\text{if} \\,\\,\\, |x| < B/2\n",
    "\\end{cases}\n",
    "$$\n",
    "\n",
    "The cell below is a simple function for creating $\\text{rect}_B(x)$"
   ]
  },
  {
   "cell_type": "markdown",
   "metadata": {},
   "source": [
    "### Example Fourier Transform of $\\text{rect}$ function\n",
    "\n",
    "Using the FT definition and the $\\text{rect}_B(x)$ equation, the FT is\n",
    "\n",
    "$$\n",
    "F(k) = \\int_{-B/2}^{B/2} \\exp(-ikx)dx\n",
    "$$\n",
    "\n",
    "$$\n",
    "= -\\frac{1}{ik} \\exp(-ikx) \\, \\Big|_{-B/2}^{\\,B/2}\n",
    "$$\n",
    "\n",
    "$$\n",
    "= -\\frac{1}{ik} \\left[ \\exp(-ikB/2) - \\exp(ikB/2)\\right]\n",
    "$$"
   ]
  },
  {
   "cell_type": "markdown",
   "metadata": {},
   "source": [
    "Using the complex definition of sine from Euler's formula\n",
    "\n",
    "$$\n",
    "\\sin(x) = \\frac{e^{ix} - e^{-ix}}{2i}\n",
    "$$\n",
    "\n",
    "Our equation for $F(k)$ can be re-written as \n",
    "\n",
    "$$\n",
    "F(k) = \\frac{2}{k}\\frac{\\exp(ikB/2) - \\exp(-ikB/2)}{2i}\n",
    "$$\n",
    "\n",
    "$$\n",
    "= \\frac{2}{k} \\sin(kB/2)\n",
    "$$\n",
    "\n",
    "$$\n",
    "= B \\frac{\\sin(kB/2)}{kB/2}\n",
    "$$\n",
    "\n",
    "\n",
    "$$\n",
    "F(k) = B \\text{sinc}(kB/2)\n",
    "$$"
   ]
  },
  {
   "cell_type": "code",
   "execution_count": 1,
   "metadata": {},
   "outputs": [],
   "source": [
    "import numpy as np\n",
    "\n",
    "def rect(x, B):\n",
    "    \"\"\"\n",
    "    create a rectangle function\n",
    "    returns a numpy array that is 1 if |x| < w and 0 if |x| > w\n",
    "    w is the rectangle width centered at 0\n",
    "    x is the number of points in the array\n",
    "    \"\"\"\n",
    "    \n",
    "    B = int(B)\n",
    "    x = int(x)\n",
    "    \n",
    "    high = np.ones(B)\n",
    "    low1 = np.zeros(int(x/2 - B/2))    \n",
    "    x1 = np.append(low1, high)\n",
    "    rect = np.append(x1, low1)\n",
    "    \n",
    "    if x > len(rect):\n",
    "        rect = np.append(rect, 0)\n",
    "    elif x < len(rect):\n",
    "        rect = rect[:-1]\n",
    "\n",
    "    return rect"
   ]
  },
  {
   "cell_type": "code",
   "execution_count": 2,
   "metadata": {
    "collapsed": false,
    "jupyter": {
     "outputs_hidden": false
    }
   },
   "outputs": [
    {
     "data": {
      "application/vnd.jupyter.widget-view+json": {
       "model_id": "313b1e1f236c48088863f2dfebc88379",
       "version_major": 2,
       "version_minor": 0
      },
      "text/plain": [
       "IntSlider(value=0)"
      ]
     },
     "metadata": {},
     "output_type": "display_data"
    },
    {
     "data": {
      "application/vnd.jupyter.widget-view+json": {
       "model_id": "828848818328435eb1e886070001b63a",
       "version_major": 2,
       "version_minor": 0
      },
      "text/plain": [
       "Button(description='update plot', style=ButtonStyle())"
      ]
     },
     "metadata": {},
     "output_type": "display_data"
    }
   ],
   "source": [
    "%matplotlib inline\n",
    "%config InlineBackend.figure_format = 'svg'\n",
    "import matplotlib.pyplot as plt\n",
    "from IPython import display as disp\n",
    "\n",
    "import ipywidgets as widgets\n",
    "from IPython.display import display\n",
    "slide = widgets.IntSlider()\n",
    "display(slide)\n",
    "\n",
    "from IPython.display import display\n",
    "button = widgets.Button(description=\"update plot\")\n",
    "display(button)\n",
    "\n",
    "pi = np.pi\n",
    "length = 2000\n",
    "x = np.linspace(-1, 1, length)\n",
    "\n",
    "def on_button_clicked(b):\n",
    "    \"\"\"\n",
    "    excecutes function when button is clicked\n",
    "    \"\"\"\n",
    "    B = slide.value * 10\n",
    "    if B == 0:\n",
    "        B = 10\n",
    "    plt.rcParams.update({'font.size': 14})\n",
    "    plt.rcParams['figure.figsize'] = (12, 1.9)\n",
    "    plt.yticks([0, 1], ['$0$', '$1$'])\n",
    "    plt.xticks([-1*B/length, 1*B/length], ['$-B/2$', '$B/2$'])\n",
    "    plt.plot(x, rect(len(x), B), label=r'$f(x)=rect_B(x)$')\n",
    "    plt.axhline(0, color='black', lw=1)\n",
    "    leg = plt.legend(loc='best', fontsize=14, fancybox=True)\n",
    "    leg.get_frame().set_linewidth(0.1)\n",
    "    plt.xlabel('$x$')\n",
    "    plt.ylim(-0.2, 1.2)\n",
    "    plt.show()\n",
    "    \n",
    "    plt.yticks([0, 1], ['$0$', '$1$'])\n",
    "    plt.xticks([-1*pi, 0, 1*pi], ['$-B/2$', '$0$', '$B/2$'])\n",
    "\n",
    "    k = np.linspace(-1, 1, length)\n",
    "    plt.plot(x, (B / length) * np.sin(k * B / 2) / (B * k / 2), 'r', label=r'$F(k)=B sinc(kB/2)$')\n",
    "    plt.axhline(0, color='black', lw=1)\n",
    "    leg = plt.legend(loc='best', fontsize=14, fancybox=True)\n",
    "    leg.get_frame().set_linewidth(0.1)\n",
    "    plt.xlabel('$k$')\n",
    "    plt.xlim(-.25, .25)\n",
    "    plt.show()\n",
    "    disp.clear_output(wait=True)\n",
    " \n",
    "button.on_click(on_button_clicked)"
   ]
  },
  {
   "cell_type": "code",
   "execution_count": null,
   "metadata": {
    "collapsed": true,
    "jupyter": {
     "outputs_hidden": true
    }
   },
   "outputs": [],
   "source": []
  }
 ],
 "metadata": {
  "anaconda-cloud": {},
  "kernelspec": {
   "display_name": "Python 3 (ipykernel)",
   "language": "python",
   "name": "python3"
  },
  "language_info": {
   "codemirror_mode": {
    "name": "ipython",
    "version": 3
   },
   "file_extension": ".py",
   "mimetype": "text/x-python",
   "name": "python",
   "nbconvert_exporter": "python",
   "pygments_lexer": "ipython3",
   "version": "3.11.5"
  },
  "widgets": {
   "application/vnd.jupyter.widget-state+json": {
    "state": {
     "313b1e1f236c48088863f2dfebc88379": {
      "model_module": "@jupyter-widgets/controls",
      "model_module_version": "2.0.0",
      "model_name": "IntSliderModel",
      "state": {
       "_dom_classes": [],
       "_model_module": "@jupyter-widgets/controls",
       "_model_module_version": "2.0.0",
       "_model_name": "IntSliderModel",
       "_view_count": null,
       "_view_module": "@jupyter-widgets/controls",
       "_view_module_version": "2.0.0",
       "_view_name": "IntSliderView",
       "behavior": "drag-tap",
       "continuous_update": true,
       "description": "",
       "description_allow_html": false,
       "disabled": false,
       "layout": "IPY_MODEL_9c8c4a63de114685a335bea98133ddf8",
       "max": 100,
       "min": 0,
       "orientation": "horizontal",
       "readout": true,
       "readout_format": "d",
       "step": 1,
       "style": "IPY_MODEL_df5ab21676d642a49af2b0bad27b37cd",
       "tabbable": null,
       "tooltip": null,
       "value": 0
      }
     },
     "828848818328435eb1e886070001b63a": {
      "model_module": "@jupyter-widgets/controls",
      "model_module_version": "2.0.0",
      "model_name": "ButtonModel",
      "state": {
       "_dom_classes": [],
       "_model_module": "@jupyter-widgets/controls",
       "_model_module_version": "2.0.0",
       "_model_name": "ButtonModel",
       "_view_count": null,
       "_view_module": "@jupyter-widgets/controls",
       "_view_module_version": "2.0.0",
       "_view_name": "ButtonView",
       "button_style": "",
       "description": "update plot",
       "disabled": false,
       "icon": "",
       "layout": "IPY_MODEL_c1d087d810e64959b15c9540175d5b8d",
       "style": "IPY_MODEL_f2defc48e710414e84120bcb05e7880e",
       "tabbable": null,
       "tooltip": null
      }
     },
     "9c8c4a63de114685a335bea98133ddf8": {
      "model_module": "@jupyter-widgets/base",
      "model_module_version": "2.0.0",
      "model_name": "LayoutModel",
      "state": {
       "_model_module": "@jupyter-widgets/base",
       "_model_module_version": "2.0.0",
       "_model_name": "LayoutModel",
       "_view_count": null,
       "_view_module": "@jupyter-widgets/base",
       "_view_module_version": "2.0.0",
       "_view_name": "LayoutView",
       "align_content": null,
       "align_items": null,
       "align_self": null,
       "border_bottom": null,
       "border_left": null,
       "border_right": null,
       "border_top": null,
       "bottom": null,
       "display": null,
       "flex": null,
       "flex_flow": null,
       "grid_area": null,
       "grid_auto_columns": null,
       "grid_auto_flow": null,
       "grid_auto_rows": null,
       "grid_column": null,
       "grid_gap": null,
       "grid_row": null,
       "grid_template_areas": null,
       "grid_template_columns": null,
       "grid_template_rows": null,
       "height": null,
       "justify_content": null,
       "justify_items": null,
       "left": null,
       "margin": null,
       "max_height": null,
       "max_width": null,
       "min_height": null,
       "min_width": null,
       "object_fit": null,
       "object_position": null,
       "order": null,
       "overflow": null,
       "padding": null,
       "right": null,
       "top": null,
       "visibility": null,
       "width": null
      }
     },
     "c1d087d810e64959b15c9540175d5b8d": {
      "model_module": "@jupyter-widgets/base",
      "model_module_version": "2.0.0",
      "model_name": "LayoutModel",
      "state": {
       "_model_module": "@jupyter-widgets/base",
       "_model_module_version": "2.0.0",
       "_model_name": "LayoutModel",
       "_view_count": null,
       "_view_module": "@jupyter-widgets/base",
       "_view_module_version": "2.0.0",
       "_view_name": "LayoutView",
       "align_content": null,
       "align_items": null,
       "align_self": null,
       "border_bottom": null,
       "border_left": null,
       "border_right": null,
       "border_top": null,
       "bottom": null,
       "display": null,
       "flex": null,
       "flex_flow": null,
       "grid_area": null,
       "grid_auto_columns": null,
       "grid_auto_flow": null,
       "grid_auto_rows": null,
       "grid_column": null,
       "grid_gap": null,
       "grid_row": null,
       "grid_template_areas": null,
       "grid_template_columns": null,
       "grid_template_rows": null,
       "height": null,
       "justify_content": null,
       "justify_items": null,
       "left": null,
       "margin": null,
       "max_height": null,
       "max_width": null,
       "min_height": null,
       "min_width": null,
       "object_fit": null,
       "object_position": null,
       "order": null,
       "overflow": null,
       "padding": null,
       "right": null,
       "top": null,
       "visibility": null,
       "width": null
      }
     },
     "df5ab21676d642a49af2b0bad27b37cd": {
      "model_module": "@jupyter-widgets/controls",
      "model_module_version": "2.0.0",
      "model_name": "SliderStyleModel",
      "state": {
       "_model_module": "@jupyter-widgets/controls",
       "_model_module_version": "2.0.0",
       "_model_name": "SliderStyleModel",
       "_view_count": null,
       "_view_module": "@jupyter-widgets/base",
       "_view_module_version": "2.0.0",
       "_view_name": "StyleView",
       "description_width": "",
       "handle_color": null
      }
     },
     "f2defc48e710414e84120bcb05e7880e": {
      "model_module": "@jupyter-widgets/controls",
      "model_module_version": "2.0.0",
      "model_name": "ButtonStyleModel",
      "state": {
       "_model_module": "@jupyter-widgets/controls",
       "_model_module_version": "2.0.0",
       "_model_name": "ButtonStyleModel",
       "_view_count": null,
       "_view_module": "@jupyter-widgets/base",
       "_view_module_version": "2.0.0",
       "_view_name": "StyleView",
       "button_color": null,
       "font_family": null,
       "font_size": null,
       "font_style": null,
       "font_variant": null,
       "font_weight": null,
       "text_color": null,
       "text_decoration": null
      }
     }
    },
    "version_major": 2,
    "version_minor": 0
   }
  }
 },
 "nbformat": 4,
 "nbformat_minor": 4
}