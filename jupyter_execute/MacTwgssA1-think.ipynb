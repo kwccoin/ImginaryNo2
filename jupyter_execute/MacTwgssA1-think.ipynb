{
 "cells": [
  {
   "cell_type": "markdown",
   "id": "13648e87-80e0-48af-a5a8-df36098710d5",
   "metadata": {},
   "source": [
    "# 1. Thinking in another dimension"
   ]
  },
  {
   "cell_type": "markdown",
   "id": "206c52e9-8438-4172-a39f-2c9941ca79e6",
   "metadata": {},
   "source": [
    "    Thinking in another dimension\n",
    "    \n",
    "    ... even it does not exist\n",
    "    ... even if it is impossible to think about\n",
    "    "
   ]
  },
  {
   "cell_type": "markdown",
   "id": "d55abf38-a11e-4ccc-b7cf-868e3fea263c",
   "metadata": {},
   "source": [
    "\n",
    "    \n",
    "    My aim is not to \"teach\" maths \n",
    "        or purely introduce you to any numbering system\n",
    "        \n",
    "    My objective is to \n",
    "        try to see a way to get one to think outside the box\n",
    "        or to see another dimension even if it does not exist\n",
    "    \n",
    "    To appreciate different dimension of life...\n",
    "           And even if not agree ... \n",
    "    \n",
    "    If not, at least to wonder, \n",
    "           And to be curious ...\n",
    "                And even if it is impossible to imagine these\n",
    "                    and frankly even you know deep down that dimension does not even exist!\n",
    "    "
   ]
  },
  {
   "cell_type": "markdown",
   "id": "e2f035ce",
   "metadata": {},
   "source": [
    "    There are many maths I think very striking when I encounter it the very first time\n",
    "    \n",
    "    - Chicken and Rabbit in one cage with 4 heads and 6 legs how many ...\n",
    "    - what is negative number\n",
    "    - It is not that /sqrt{2} is irrational or not, but the proof by contradiction\n",
    "    - imaginery number is real and there are at least 3 kinds of them\n",
    "  \n",
    "    ---> real number's infinity is larger than integer number's infinity\n",
    "            (technical terms is real number is uncountable)\n",
    "    \n",
    "    ---> any formal mathematical system which is better than arthimetic will \n",
    "            have statement in it that cannot be proven or disped in that system\n",
    "            \n",
    "            (Or Should we say Mathematical Systems Always Contain Unprovable Truths)\n",
    "            And even worst (or brillant?) someone proved this theorem of unprovable truth!\n",
    "        \n",
    "    ---> in real world, triangle is either >=< 180 degree, which one then?\n",
    "            only one is the truth and is real\n",
    "            then why bother and what is the point of having 3 geometries\n",
    "            and even worst ... find all of them are useful!!!\n",
    "        \n",
    "    --> maths is useful and relevant \n",
    "            But most suprising at all, is why maths is useful at all?\n",
    "            Why a human endeavour can have relevance to the world?\n",
    "            And what is the limit of this approach to life?\n",
    "    \n",
    "    OK too much BS, let use start with a simple \n",
    "    \n",
    "    --> projective geometry first"
   ]
  },
  {
   "cell_type": "markdown",
   "id": "0742ccac-fba2-4a62-a992-9714e32cdb43",
   "metadata": {},
   "source": []
  },
  {
   "cell_type": "markdown",
   "id": "9d34c910-c3ce-450a-9ecf-7c4d4caae2d3",
   "metadata": {},
   "source": [
    "    Imagine you have a circle of say radius 1 that\n",
    "        sit on a line of infinite length say the real number line\n",
    "        \n",
    "    From the \"north pole\" of that circle you draw a line towards the line\n",
    "        then move left or right and map each point of the circle to the line\n",
    "        \n",
    "    Can you see that each point of the circle can project to each point to the line\n",
    "        (techncailly not the +/- infinite as you only have one north pole la\n",
    "         can +/- infinite meant? let us not go that far.  But even a bit short ...\n",
    "         do you find it amazing?\n",
    "    \n",
    "    How can it be?\n",
    "    The circle has a circumference of 2pi\n",
    "    The length of the line is ... infinity \n",
    "    How can you map finite to infinitity\n",
    "    \n",
    "    Can you really see the world in a sand?\n",
    "    \n",
    "    Or even worst as in my most dislike Fan Yin (or no feeling Indian) \n",
    "        the world is all but a reflection of the pearl 因佗羅網\n",
    "        Just watch one water dew on the leave you can see the whole world in it\n",
    "    \n",
    "    "
   ]
  },
  {
   "cell_type": "markdown",
   "id": "53257aa9-1ac8-42c3-be40-bd1d55e96943",
   "metadata": {},
   "source": [
    "Anyway ... next let us look at some number system as I promise to present on at least one!"
   ]
  },
  {
   "cell_type": "code",
   "execution_count": 1,
   "id": "98e4d139-038b-470b-9cf7-4bcc82a15070",
   "metadata": {},
   "outputs": [
    {
     "name": "stdout",
     "output_type": "stream",
     "text": [
      "2023-09-22 12:38:01.248267\n"
     ]
    }
   ],
   "source": [
    "import datetime\n",
    "print(datetime.datetime.now())"
   ]
  }
 ],
 "metadata": {
  "kernelspec": {
   "display_name": "Python 3 (ipykernel)",
   "language": "python",
   "name": "python3"
  },
  "language_info": {
   "codemirror_mode": {
    "name": "ipython",
    "version": 3
   },
   "file_extension": ".py",
   "mimetype": "text/x-python",
   "name": "python",
   "nbconvert_exporter": "python",
   "pygments_lexer": "ipython3",
   "version": "3.11.5"
  }
 },
 "nbformat": 4,
 "nbformat_minor": 5
}