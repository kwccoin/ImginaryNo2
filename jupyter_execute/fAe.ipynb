{
 "cells": [
  {
   "cell_type": "markdown",
   "metadata": {},
   "source": [
    "# testing jupyter-book failed using fAe examples\n",
    "\n",
    "from https://github.com/markjay4k/fourier-transform \n",
    "unless matplotlib notebook to inline"
   ]
  },
  {
   "cell_type": "markdown",
   "metadata": {},
   "source": [
    "Not work immeidately \n",
    "\n",
    "as jupyterlab assume using conda and use javascript for \n",
    "interaction ... that is not in the past https://github.com/jupyterlab/jupyterlab/issues/3934\n",
    "\n",
    "as detailed discussed here: https://stackoverflow.com/questions/51922480/javascript-error-ipython-is-not-defined-in-jupyterlab/56416229#56416229\n",
    "\n",
    "change all to inline it would work but what is the point???!!!!\n"
   ]
  },
  {
   "cell_type": "code",
   "execution_count": 1,
   "metadata": {},
   "outputs": [],
   "source": [
    "import numpy as np\n",
    "\n",
    "def rect(x, B):\n",
    "    \"\"\"\n",
    "    create a rectangle function\n",
    "    returns a numpy array that is 1 if |x| < w and 0 if |x| > w\n",
    "    B is the rectangle width centered at 0\n",
    "    x is the number of points in the array\n",
    "    \"\"\"\n",
    "    \n",
    "    B = int(B)\n",
    "    x = int(x)\n",
    "    \n",
    "    high = np.ones(B)\n",
    "    low1 = np.zeros(int(x/2 - B/2))    \n",
    "    x1 = np.append(low1, high)\n",
    "    rect = np.append(x1, low1)\n",
    "    \n",
    "    if x > len(rect):\n",
    "        rect = np.append(rect, 0)\n",
    "    elif x < len(rect):\n",
    "        rect = rect[:-1]\n",
    "\n",
    "    return rect"
   ]
  },
  {
   "cell_type": "code",
   "execution_count": 2,
   "metadata": {},
   "outputs": [],
   "source": [
    "import numpy as np\n",
    "\n",
    "def rect(x, B):\n",
    "    \"\"\"\n",
    "    create a rectangle function\n",
    "    returns a numpy array that is 1 if |x| < w and 0 if |x| > w\n",
    "    B is the rectangle width centered at 0\n",
    "    x is the number of points in the array\n",
    "    \"\"\"\n",
    "    \n",
    "    B = int(B)\n",
    "    x = int(x)\n",
    "    \n",
    "    high = np.ones(B)\n",
    "    low1 = np.zeros(int(x/2 - B/2))    \n",
    "    x1 = np.append(low1, high)\n",
    "    rect = np.append(x1, low1)\n",
    "    \n",
    "    if x > len(rect):\n",
    "        rect = np.append(rect, 0)\n",
    "    elif x < len(rect):\n",
    "        rect = rect[:-1]\n",
    "\n",
    "    return rect"
   ]
  },
  {
   "cell_type": "code",
   "execution_count": 3,
   "metadata": {
    "collapsed": false,
    "jupyter": {
     "outputs_hidden": false
    }
   },
   "outputs": [
    {
     "data": {
      "image/png": "[encoded data removed]",
      "text/plain": [
       "<Figure size 1200x600 with 2 Axes>"
      ]
     },
     "metadata": {},
     "output_type": "display_data"
    }
   ],
   "source": [
    "# %matplotlib notebook\n",
    "%matplotlib inline\n",
    "import matplotlib.pyplot as plt\n",
    "from matplotlib.animation import FuncAnimation\n",
    "\n",
    "# constants and x array\n",
    "pi = np.pi\n",
    "length = 2000\n",
    "x = np.linspace(-1, 1, length)\n",
    "\n",
    "# create figure and axes \n",
    "fig, (ax1, ax2) = plt.subplots(2, figsize=(12, 6))\n",
    "\n",
    "# creating our line objects for the plots\n",
    "sinc, = ax1.plot(x, np.sin(x), '-b')\n",
    "box, = ax2.plot(x, np.sin(x), '-r')\n",
    "\n",
    "def animate(B):\n",
    "    \"\"\"\n",
    "    this function gets called by FuncAnimation\n",
    "    each time called, it will replot with a different width \"B\"\n",
    "    \n",
    "    B: rect width\n",
    "    \n",
    "    return:\n",
    "        sinc: ydata\n",
    "        box: ydata\n",
    "    \"\"\"\n",
    "    \n",
    "    # create our rect object\n",
    "    f = rect(len(x), B)\n",
    "    box.set_ydata(f)\n",
    "    \n",
    "    # create our sinc object\n",
    "    F = (B / length) * np.sin(x * B / 2) / (x * B / 2)\n",
    "    sinc.set_ydata(F)\n",
    "    \n",
    "    # adjust the sinc plot height in a loop\n",
    "    ax1.set_ylim(np.min(F), np.max(F))\n",
    "    \n",
    "    # format the ax1 yticks\n",
    "    plt.setp(ax1, xticks=[-0.25, 0.25], xticklabels=['-1/4', '1/4'],\n",
    "             yticks=[0, np.max(F)], yticklabels=['0', 'B={:.2f}'.format((B / length))])\n",
    "    \n",
    "    # format the ax2 xticks to move with the box\n",
    "    plt.setp(ax2, yticks=[0, 1], \n",
    "             xticks=[-1, -1 * B / length, 1 * B / length, 1], xticklabels=['-1', '-B/2', 'B/2', '1'])\n",
    "    \n",
    "def init():\n",
    "    \"\"\"\n",
    "    initialize the figure\n",
    "    \"\"\"\n",
    "    \n",
    "    ax2.set_ylim(-0.2, 1.1)\n",
    "    ax1.set_xlim(-0.25, 0.25)\n",
    "    ax2.set_xlim(-1, 1)\n",
    "    ax1.axhline(0, color='black', lw=1)\n",
    "    ax2.axhline(0, color='black', lw=1)\n",
    "    plt.rcParams.update({'font.size':14})\n",
    "    \n",
    "    return sinc, box,\n",
    "\n",
    "# the FuncAnimation function iterates through our animate function using the steps array\n",
    "step = 10\n",
    "steps = np.append(np.arange(10, 1000, step), np.arange(1000, 10, -1 * step))\n",
    "ani = FuncAnimation(fig, animate, steps, init_func=init, interval=50, blit=True)\n",
    "plt.show()"
   ]
  },
  {
   "cell_type": "code",
   "execution_count": 4,
   "metadata": {},
   "outputs": [],
   "source": [
    "import numpy as np\n",
    "\n",
    "def rect(x, B):\n",
    "    \"\"\"\n",
    "    create a rectangle function\n",
    "    returns a numpy array that is 1 if |x| < w and 0 if |x| > w\n",
    "    B is the rectangle width centered at 0\n",
    "    x is the number of points in the array\n",
    "    \"\"\"\n",
    "    \n",
    "    B = int(B)\n",
    "    x = int(x)\n",
    "    \n",
    "    high = np.ones(B)\n",
    "    low1 = np.zeros(int(x/2 - B/2))    \n",
    "    x1 = np.append(low1, high)\n",
    "    rect = np.append(x1, low1)\n",
    "    \n",
    "    if x > len(rect):\n",
    "        rect = np.append(rect, 0)\n",
    "    elif x < len(rect):\n",
    "        rect = rect[:-1]\n",
    "\n",
    "    return rect"
   ]
  },
  {
   "cell_type": "code",
   "execution_count": null,
   "metadata": {},
   "outputs": [],
   "source": [
    "\n"
   ]
  },
  {
   "cell_type": "code",
   "execution_count": null,
   "metadata": {},
   "outputs": [],
   "source": []
  }
 ],
 "metadata": {
  "anaconda-cloud": {},
  "kernelspec": {
   "display_name": "Python 3 (ipykernel)",
   "language": "python",
   "name": "python3"
  },
  "language_info": {
   "codemirror_mode": {
    "name": "ipython",
    "version": 3
   },
   "file_extension": ".py",
   "mimetype": "text/x-python",
   "name": "python",
   "nbconvert_exporter": "python",
   "pygments_lexer": "ipython3",
   "version": "3.11.5"
  }
 },
 "nbformat": 4,
 "nbformat_minor": 4
}