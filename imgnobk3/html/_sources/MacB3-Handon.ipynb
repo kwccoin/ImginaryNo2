{
 "cells": [
  {
   "cell_type": "markdown",
   "id": "13648e87-80e0-48af-a5a8-df36098710d5",
   "metadata": {},
   "source": [
    "# 1. Less is More Thinking "
   ]
  },
  {
   "cell_type": "markdown",
   "id": "206c52e9-8438-4172-a39f-2c9941ca79e6",
   "metadata": {},
   "source": [
    "    Thinking in Less Important Topics"
   ]
  },
  {
   "cell_type": "markdown",
   "id": "d55abf38-a11e-4ccc-b7cf-868e3fea263c",
   "metadata": {},
   "source": [
    "May be just Frozen, Star Wars, Digital Currency ..."
   ]
  }
 ],
 "metadata": {
  "kernelspec": {
   "display_name": "Python 3 (ipykernel)",
   "language": "python",
   "name": "python3"
  },
  "language_info": {
   "codemirror_mode": {
    "name": "ipython",
    "version": 3
   },
   "file_extension": ".py",
   "mimetype": "text/x-python",
   "name": "python",
   "nbconvert_exporter": "python",
   "pygments_lexer": "ipython3",
   "version": "3.11.5"
  }
 },
 "nbformat": 4,
 "nbformat_minor": 5
}
