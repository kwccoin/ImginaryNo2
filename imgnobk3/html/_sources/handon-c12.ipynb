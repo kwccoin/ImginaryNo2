{
 "cells": [
  {
   "cell_type": "markdown",
   "id": "a6d2e783-a087-4740-b18f-ac565fd84f75",
   "metadata": {},
   "source": [
    "# handon-c12 qt version"
   ]
  },
  {
   "cell_type": "code",
   "execution_count": 1,
   "id": "c3ca67b4-752d-423f-8493-274eedd0990f",
   "metadata": {},
   "outputs": [
    {
     "data": {
      "text/plain": [
       "'\\ntop=0.88,\\nbottom=0.11,\\nleft=0.125,\\nright=0.9,\\nhspace=0.2,\\nwspace=0.2\\n'"
      ]
     },
     "execution_count": 1,
     "metadata": {},
     "output_type": "execute_result"
    }
   ],
   "source": [
    "import numpy as np\n",
    "from matplotlib import pyplot as plt\n",
    "from matplotlib.animation import FuncAnimation\n",
    "\n",
    "# %matplotlib.use(\"MacOSX\") --err\n",
    "# %matplotlib --nothing\n",
    "%matplotlib tk\n",
    "\n",
    "# NOT EXACTLY WORKING USING INLINE\n",
    "\n",
    "#%matplotlib inline\n",
    "\n",
    "# work\n",
    "\n",
    "# if nothing use TkAgg\n",
    "#%matplotlib\n",
    "#%matplotlib qt \n",
    "#%matplotlib tk \n",
    "\n",
    "# not exactly working\n",
    "#%matplotlib gtk\n",
    "# Warning: Cannot change to a different GUI toolkit: gtk. Using tk instead.\n",
    "\n",
    "# not working\n",
    "\n",
    "# %matplotlib TkAgg <-- not working see above default; even \"\"\n",
    "# %matplotlib MacOS \n",
    "# %matplotlib macos \n",
    "\n",
    "\n",
    "\n",
    "fig = plt.figure()\n",
    "ax = plt.axes(xlim=(0, 4), ylim=(-2, 2))\n",
    "line, = ax.plot([], [], lw=3)\n",
    "\n",
    "def init():\n",
    "    line.set_data([], [])\n",
    "    return line,\n",
    "\n",
    "# why , ???\n",
    "\n",
    "def animate(i):\n",
    "    x = np.linspace(0, 4, 1000)\n",
    "    y = np.sin(2 * np.pi * (x - 0.01 * i))\n",
    "    line.set_data(x, y)\n",
    "    return line,\n",
    "\n",
    "anim = FuncAnimation(fig, animate,\n",
    "                     init_func=init,\n",
    "                     frames=1000,\n",
    "                     interval=10,\n",
    "                     blit=True)\n",
    "\n",
    "\n",
    "anim.save('handon-c12-sine_wave.gif', writer='pillow')\n",
    "\n",
    "# export value\n",
    "'''\n",
    "top=0.88,\n",
    "bottom=0.11,\n",
    "left=0.125,\n",
    "right=0.9,\n",
    "hspace=0.2,\n",
    "wspace=0.2\n",
    "'''"
   ]
  },
  {
   "cell_type": "code",
   "execution_count": 2,
   "id": "862ecb0f-6381-48a7-8b62-aae4fd04c47f",
   "metadata": {},
   "outputs": [],
   "source": [
    "fig = plt.figure()\n",
    "ax = plt.axes(xlim=(-50, 50), ylim=(-50, 50))\n",
    "line, = ax.plot([], [], lw=2)\n",
    "def init():\n",
    "    line.set_data([], [])\n",
    "    return line,\n",
    "xdata, ydata = [], []\n",
    "def animate(i):\n",
    "    t = 0.2*i\n",
    "    x = t*np.cos(t)\n",
    "    y = t*np.sin(t)\n",
    "    xdata.append(x)\n",
    "    ydata.append(y)\n",
    "    line.set_data(xdata, ydata)\n",
    "    return line,\n",
    "    \n",
    "anim = FuncAnimation(fig, animate,\n",
    "                               init_func=init,\n",
    "                               frames=500, #3000,\n",
    "                               interval=5,\n",
    "                               blit=True)\n",
    "\n",
    "anim.save('handon-c12-a.gif', writer='pillow') \n",
    "# look very different seems overlap spiral if anim.save\n",
    "\n",
    "# implicit display ???\n",
    "plt.title(\"2a\")\n",
    "plt.show()"
   ]
  },
  {
   "cell_type": "markdown",
   "id": "569af353-2788-46a2-ac54-843bf9296054",
   "metadata": {},
   "source": [
    "## celluloid (above pyqt)\n",
    "### conda install -c anaconda pyqt --solver=classic # <-- additional for hands on>\n",
    "### conda install -c anaconda celluloid --solver=classic # <-- additional for hands on>\n",
    "### # <-- additional for hands on>"
   ]
  },
  {
   "cell_type": "code",
   "execution_count": 3,
   "id": "4a3a7993-d35c-4150-8714-8d6753eb0d03",
   "metadata": {},
   "outputs": [],
   "source": [
    "from celluloid import Camera\n",
    "\n",
    "fig = plt.figure()\n",
    "camera = Camera(fig)\n",
    "\n",
    "for i in range(10):\n",
    "    plt.plot([i] * 10)\n",
    "    camera.snap()\n",
    "\n",
    "animation = camera.animate()\n",
    "animation.save('handon-c12-b.gif', writer='pillow') \n",
    "plt.title(\"3b\")\n",
    "plt.show()"
   ]
  },
  {
   "cell_type": "code",
   "execution_count": 4,
   "id": "180e59ec-0a82-43b2-ae9b-f8b542435f4a",
   "metadata": {},
   "outputs": [],
   "source": [
    "fig, axes = plt.subplots()\n",
    "camera = Camera(fig)\n",
    "t = np.linspace(0, 2 * np.pi, 128, endpoint=False)\n",
    "for i in t:\n",
    "    plt.plot(t, np.sin(t + i)) #, color='green') # you can see actually it changed colour each plot\n",
    "    camera.snap()\n",
    "animation = camera.animate()\n",
    "animation.save('handon-c12-c.gif', writer='pillow') \n",
    "plt.title(\"4c\")\n",
    "plt.show()"
   ]
  },
  {
   "cell_type": "code",
   "execution_count": 5,
   "id": "cd4004e2-e56f-4a5a-b8b7-fcf906d0c4dd",
   "metadata": {},
   "outputs": [],
   "source": [
    "fig, axes = plt.subplots()\n",
    "camera = Camera(fig)\n",
    "y = np.arange(5)\n",
    "for i in y:\n",
    "    plt.bar( np.random.rand(5)*10 , y)\n",
    "    camera.snap()\n",
    "animation = camera.animate()\n",
    "animation.save('handon-c12-d.gif', writer='pillow') \n",
    "plt.title(\"5d\")\n",
    "plt.show()"
   ]
  }
 ],
 "metadata": {
  "kernelspec": {
   "display_name": "Python 3 (ipykernel)",
   "language": "python",
   "name": "python3"
  },
  "language_info": {
   "codemirror_mode": {
    "name": "ipython",
    "version": 3
   },
   "file_extension": ".py",
   "mimetype": "text/x-python",
   "name": "python",
   "nbconvert_exporter": "python",
   "pygments_lexer": "ipython3",
   "version": "3.11.5"
  }
 },
 "nbformat": 4,
 "nbformat_minor": 5
}
