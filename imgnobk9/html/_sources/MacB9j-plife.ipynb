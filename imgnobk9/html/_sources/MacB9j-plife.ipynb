{
 "cells": [
  {
   "cell_type": "markdown",
   "metadata": {},
   "source": [
    "# p-life notebook\n",
    "\n",
    "## trying both html and pygame py !!\n",
    "\n"
   ]
  },
  {
   "cell_type": "code",
   "execution_count": null,
   "metadata": {},
   "outputs": [],
   "source": [
    "# see https://www.youtube.com/watch?v=0Kx4Y9TVMGg\n",
    "\n",
    "# and also\n",
    "import os\n",
    "os.listdir(os.getcwd())"
   ]
  },
  {
   "cell_type": "code",
   "execution_count": 7,
   "metadata": {},
   "outputs": [
    {
     "name": "stdout",
     "output_type": "stream",
     "text": [
      "['arialunicode', 'applesdgothicneo', 'menlo', 'stheitimedium', 'symbol', 'geneva', 'hiraginosansgb', 'lastresort', 'notoserifmyanmar', 'helveticaneue', 'sfnsmono', 'ヒラキノ角コシックw8', 'pingfang', 'noteworthy', 'notosansoriya', 'ヒラキノ角コシックw9', 'thonburiui', 'optima', 'zapfdingbats', 'applebraille', 'avenirnextcondensed', 'lucidagrande', 'courier', 'sfcompact', 'applebrailleoutline6dot', 'kohinoortelugu', 'applebraillepinpoint6dot', 'muktamahee', 'newyork', 'sfns', 'avenir', 'kohinoor', 'notosansmyanmar', 'ヒラキノ明朝pron', 'avenirnext', 'kohinoorgujarati', 'aquakana', 'palatino', 'monaco', 'applesymbols', 'notonastaliq', 'stheitilight', 'geezapro', 'ヒラキノ角コシックw7', 'times', 'ヒラキノ丸コpronw4', 'ヒラキノ角コシックw6', 'ヒラキノ角コシックw4', 'notosanskannada', 'sfarabic', 'sfnsrounded', 'ヒラキノ角コシックw5', 'markerfelt', 'applebraillepinpoint8dot', 'keyboard', 'ヒラキノ角コシックw1', 'sfcompactrounded', 'arialhb', 'applebrailleoutline8dot', 'ヒラキノ角コシックw0', 'applecoloremoji', 'ヒラキノ角コシックw2', 'helvetica', 'kohinoorbangla', 'sfarabicrounded', 'notosansarmenian', 'ヒラキノ角コシックw3', 'notosanslepcha', 'albayan', 'webdings', 'notosansmandaic', 'rockwell', 'zapfino', 'notosanscaucasianalbanian', 'trebuchetms', 'notosansoldhungarian', 'georgia', 'savoyelet', 'ptsans', 'notosanssaurashtra', 'notosansmultani', 'notosanshatran', 'verdana', 'bodoni72smallcapsbook', 'notosansinscriptionalpahlavi', 'notosanshanunoo', 'timesnewroman', 'sukhumvitset', 'silom', 'notosansbhaiksuki', 'notosanscham', 'notosansmanichaean', 'notosanssiddham', 'notosansnko', 'kefa', 'notosanskayahli', 'notosansosage', 'nadeem', 'notosansadlam', 'kufistandardgk', 'notosanspahawhhmong', 'notosansmro', 'notosanscanadianaboriginal', 'notosansavestan', 'bradleyhand', 'notosansmiao', 'arialnarrow', 'notosansbassavah', 'stixgeneral', 'notosanssyriac', 'notosansmendekikakui', 'kannadasangammn', 'papyrus', 'seravek', 'applegothic', 'iowanoldstyle', 'stixtwotext', 'notosanslydian', 'dincondensed', 'notosanschakma', 'notosansnabataean', 'kailasa', 'charter', 'notoserifnyiakengpuachuehmong', 'farisi', 'arial', 'mishafi', 'notosansduployan', 'academyengravedletfonts', 'notosanssorasompeng', 'marion', 'trattatello', 'sinhalamn', 'notosansrejang', 'notosansugaritic', 'corsiva', 'notosanslycian', 'bigcaslon', 'notosanswarangciti', 'couriernew', 'nisc18030', 'notosanshanifirohingya', 'notosanstirhuta', 'alnile', 'stixintupsmreg', 'superclarendon', 'baghdad', 'athelas', 'stixintupdbol', 'americantypewriter', 'laosangammn', 'notosanstaile', 'notosansthaana', 'luminari', 'stixvar', 'malayalammn', 'stixsizonesymbol', 'muna', 'brushscript', 'bodoni72os', 'myanmarmn', 'notosansjavanese', 'telugumn', 'myanmarsangammn', 'chalkduster', 'stixintupsmbol', 'stixintupdreg', 'notosanssundanese', 'devanagarisangammn', 'phosphate', 'applechancery', 'applemyungjo', 'stixsizonesymreg', 'notosansolchiki', 'notosansgunjalagondi', 'futura', 'notosanscarian', 'copperplate', 'ptmono', 'thonburi', 'farah', 'malayalamsangammn', 'notosansmodi', 'chalkboardse', 'itfdevanagari', 'notosansmeroitic', 'banglamn', 'stixnonunibol', 'notosanspalmyrene', 'notosansphagspa', 'notosansyi', 'banglasangammn', 'notosanspsalterpahlavi', 'tamilmn', 'notosanslimbu', 'notosanscypriot', 'gurmukhisangammn', 'gujaratimt', 'diwankufi', 'notosansbamum', 'notosanslisu', 'wingdings3', 'notosansmahajani', 'wingdings2', 'notosansglagolitic', 'hoeflertextornaments', 'tamilsangammn', 'notoserifahom', 'bodoniornaments', 'notosansvai', 'notosanstagbanwa', 'cochin', 'skia', 'notosansphoenician', 'devanagarimt', 'kannadamn', 'stixtwomath', 'beirut', 'impact', 'notosanstifinagh', 'kokonor', 'notosanskaithi', 'newpeninimmt', 'stixintupbol', 'notoserifbalinese', 'notosanstakri', 'notosansmasaramgondi', 'gurmukhimn', 'stixsizthreesymbol', 'notosansegyptianhieroglyphs', 'notosanssamaritan', 'notosanselbasan', 'partyletplain', 'notosanskharoshthi', 'tahoma', 'diwanthuluth', 'notosanstagalog', 'ayuthaya', 'stixintupreg', 'sinhalasangammn', 'khmersangammn', 'ptserif', 'stixsizthreesymreg', 'snellroundhand', 'notosanssharada', 'chalkboard', 'notosanskhojki', 'bodoni72', 'notosansnewtailue', 'notosansinscriptionalparthian', 'stixnonuni', 'mshtakan', 'notosansbuhid', 'laomn', 'sana', 'arialblack', 'baskerville', 'comicsansms', 'notosanskhudawadi', 'inaimathimn', 'notoserifyezidi', 'notosansbuginese', 'telugusangammn', 'hoeflertext', 'notosanslinearb', 'dinalternate', 'wingdings', 'notosansnewa', 'sathu', 'gujaratisangammn', 'notosanssylotinagri', 'stixsiztwosymbol', 'galvji', 'notosansoldpersian', 'euphemiacas', 'plantagenetcherokee', 'didot', 'notosanslineara', 'stixintsmreg', 'stixnonuniita', 'stixsizfoursymreg', 'microsoftsansserif', 'notosanscuneiform', 'notosansbatak', 'arialrounded', 'stixsiztwosymreg', 'khmermn', 'notosanswancho', 'stixgeneralbolita', 'krungthep', 'notosansoldsoutharabian', 'oriyamn', 'stixsizfoursymbol', 'stixintsmbol', 'notosanspaucinhau', 'notosansmarchen', 'notosansold', 'notosansgothic', 'gurmukhi', 'altarikh', 'stixnonunibolita', 'raanana', 'andalemono', 'gillsans', 'mishafigold', 'herculanum', 'notosanstaiviet', 'damascus', 'waseem', 'notosansimperialaramaic', 'stixintdreg', 'ptserifcaption', 'notosansbrahmi', 'stixvarbol', 'notosanscoptic', 'stixsizfivesymreg', 'notosansoldturkic', 'signpainter', 'oriyasangammn', 'stixgeneralbol', 'notosansmongolian', 'shree714', 'notosansoldpermic', 'stixintdbol', 'songti', 'notosanstaitham', 'notosansmeeteimayek', 'notosansoldnortharabian', 'decotypenaskh', 'notosansosmanya']\n"
     ]
    }
   ],
   "source": [
    "import pygame\n",
    "# try to handle font issue on mac vs pc\n",
    "print(pygame.font.get_fonts())\n",
    "# returns a list of available fonts\n",
    "pygame.font.get_default_font()\n",
    "# returnes the name of the default font\n",
    "if 'arialunicode' in pygame.font.get_fonts():\n",
    "    font_name = 'arialunicode'\n",
    "else:\n",
    "    font_name = pygame.font.get_default_font()"
   ]
  },
  {
   "cell_type": "markdown",
   "metadata": {},
   "source": [
    "### in markdown one can try this:\n",
    "\n",
    "![It has live demo by the author](https://hunar4321.github.io/particle-life/particle_life.html#91651088029)\n",
    "\n",
    "![Just make sure ! remote html gif work at least -- ChessUrl](https://upload.wikimedia.org/wikipedia/commons/7/71/ChessPawnSpecialMoves.gif \"chess\")\n",
    "\n",
    "\n",
    "### not working\n",
    "`\n",
    " 2 be updated\n",
    " none work so far\n",
    "\n",
    "`\n",
    "### ! work perhaps\n",
    "\n",
    "![subdir-non3D](plife_html_etc/particle_life.html \"plife non-3D\")\n",
    "\n",
    "![subdir-3D](plife_html_etc/particle_life_3d.html \"plife-3D\")\n",
    "\n",
    "![subdir-non3D dot-slash](./plife_html_etc/particle_life.html \"plife non-3D\")\n",
    "\n",
    "![subdir-3D dot-slash](./plife_html_etc/particle_life_3d.html \"plife-3D\")\n",
    "\n",
    "### html work perhaps\n",
    "\n",
    "[subdir-non3D dot-slash](plife_html_etc/particle_life.html \"plife non-3D\")\n",
    "\n",
    "[subdir-3D dot-slash](plife_html_etc/particle_life_3d.html \"plife-3D\")\n",
    "\n",
    "\n",
    "[subdir-non3D dot-slash](./plife_html_etc/particle_life.html \"plife non-3D\")\n",
    "\n",
    "[subdir-3D dot-slash](./plife_html_etc/particle_life_3d.html \"plife-3D\")\n"
   ]
  },
  {
   "cell_type": "code",
   "execution_count": 2,
   "metadata": {},
   "outputs": [],
   "source": [
    "import plife_html_etc.particle_life\n",
    "# not working well even undo the System Fonts part"
   ]
  },
  {
   "cell_type": "code",
   "execution_count": 4,
   "metadata": {},
   "outputs": [
    {
     "name": "stdout",
     "output_type": "stream",
     "text": [
      "os.getcwd()='/Users/ngcchk/Documents/GitHub/gpd2-win-unity1/ipadred-rain/imgno_book1/imgnobk9'\n",
      "x='/Users/ngcchk/Documents/GitHub/gpd2-win-unity1/ipadred-rain/imgno_book1/imgnobk9'\n",
      "os.listdir(x)=['JB_logo.png', '.DS_Store', 'media copy', 'requirements.txt', 'imgnobk9References.bib', 'ani.gif', 'Untitled.ipynb', 'lines_4.mp4', 'MacB9c-test3.ipynb', 'teset_7_particle_box.mp4', 'MacB9e-test-Gif-ok.ipynb', 'introAnimate.md', 'MacB9-Animate.ipynb', 'nongui_backend.png', 'img', 'MacB9d-test-iter.ipynb', '_toc.yml', 'im_4.mp4', 'Less.png', '_build', '_config.yml', 'iter-ok1.gif', '.ipynb_checkpoints', 'test-Gif-ok.gif', 'MacB9f-test-Juno-2.ipynb', 'sine_wave.gif', 'Mlp3-cook1.ipynb', 'main', 'MacB9h-DB7-sync.ipynb', 'myAnimation.gif', 'MacB9b-TestPhyMSUanimate.ipynb']\n"
     ]
    }
   ],
   "source": [
    "import os\n",
    "x=os.getcwd()\n",
    "os.listdir(os.getcwd())\n",
    "print(f\"{os.getcwd()=}\")\n",
    "print(f\"{x=}\")\n",
    "print(f\"{os.listdir(x)=}\")\n",
    "\n"
   ]
  },
  {
   "cell_type": "code",
   "execution_count": 5,
   "metadata": {},
   "outputs": [
    {
     "name": "stdout",
     "output_type": "stream",
     "text": [
      "platform.system()='Darwin'\n",
      "platform.release()='22.6.0'\n",
      "platform.version()='Darwin Kernel Version 22.6.0: Wed Jul  5 22:22:52 PDT 2023; root:xnu-8796.141.3~6/RELEASE_ARM64_T8103'\n"
     ]
    },
    {
     "data": {
      "text/plain": [
       "\"\\nplatform.system()='Darwin'\\nplatform.release()='22.6.0'\\nplatform.version()='Darwin Kernel Version 22.6.0: Wed Jun 28 20:51:42 PDT 2023; root:xnu-8796.142.1~1/RELEASE_ARM64_T8020'\\n\""
      ]
     },
     "execution_count": 5,
     "metadata": {},
     "output_type": "execute_result"
    }
   ],
   "source": [
    "import platform\n",
    "print(f\"{platform.system()=}\")\n",
    "print(f\"{platform.release()=}\")\n",
    "print(f\"{platform.version()=}\")\n",
    "\n",
    "# ipad\n",
    "'''\n",
    "platform.system()='Darwin'\n",
    "platform.release()='22.6.0'\n",
    "platform.version()='Darwin Kernel Version 22.6.0: Wed Jun 28 20:51:42 PDT 2023; root:xnu-8796.142.1~1/RELEASE_ARM64_T8020'\n",
    "'''"
   ]
  }
 ],
 "metadata": {
  "kernelspec": {
   "display_name": "Python 3 (ipykernel)",
   "language": "python",
   "name": "python3"
  },
  "language_info": {
   "codemirror_mode": {
    "name": "ipython",
    "version": 3
   },
   "file_extension": ".py",
   "mimetype": "text/x-python",
   "name": "python",
   "nbconvert_exporter": "python",
   "pygments_lexer": "ipython3",
   "version": "3.11.5"
  }
 },
 "nbformat": 4,
 "nbformat_minor": 4
}
