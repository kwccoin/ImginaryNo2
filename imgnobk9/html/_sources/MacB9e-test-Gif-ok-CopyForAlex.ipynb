{
 "cells": [
  {
   "cell_type": "markdown",
   "metadata": {},
   "source": [
    "# test-Gif-ok\n"
   ]
  },
  {
   "cell_type": "code",
   "execution_count": null,
   "metadata": {},
   "outputs": [],
   "source": []
  },
  {
   "cell_type": "markdown",
   "metadata": {},
   "source": [
    "## Basciallly \n",
    "\n",
    "### set working directory under Juno is a must!!!\n",
    "\n",
    "### under Juno Connect to my MacMini, \n",
    "    it works yesterday but not today, no idea\n",
    "\n",
    "### under iPadOS\n",
    "\n",
    "    tk and qt does not expect and actually do not work \n",
    "    \n",
    "    imshow does not work as GIF display hence use markdown\n",
    "    I have to save the animation into GIF and display using markdown as in here\n",
    "        under markdown, there is no need of ./ and in fact having those may not work ... try to re-run all with new jernel seems to work the second time\n",
    "\n",
    "\n",
    "### under MacOS (macmini M1)\n",
    "    the display under markdown work \n",
    "        in MacOS only if it has a directory there like ./ or img/\n",
    "        otherwise not working  \n",
    "    if you run the Gif under safari the Gif is generated correctly though\n",
    "\n",
    "for the option\n",
    "\n",
    "- %matplotlib qt\n",
    "      - Work under MacOS (in seperate windows and has to wait a bit)\n",
    "      - not under ipados\n",
    "  \n",
    "- %matplotlib tk\n",
    "      - Work under MacOS (in seperate windows and has to wait a bit)\n",
    "      - not under ipados\n",
    "  \n",
    "- %matplotlib\n",
    "      - not work under MacOS\n",
    "      - work but only as non-interactive backend\n",
    "     - as default message said the TkAgg is non-interactive and hence cannot plt.show()\n"
   ]
  },
  {
   "cell_type": "code",
   "execution_count": 1,
   "metadata": {},
   "outputs": [
    {
     "name": "stdout",
     "output_type": "stream",
     "text": [
      "Using matplotlib backend: <object object at 0x1066c7320>\n"
     ]
    },
    {
     "name": "stderr",
     "output_type": "stream",
     "text": [
      "/var/folders/33/krstvgns2rncl74r18tkv6_80000gn/T/ipykernel_26604/3771949022.py:26: MatplotlibDeprecationWarning: Setting data with a non sequence type is deprecated since 3.7 and will be remove two minor releases later\n",
      "  redDot.set_data(i, np.sin(i))\n",
      "/var/folders/33/krstvgns2rncl74r18tkv6_80000gn/T/ipykernel_26604/3771949022.py:26: MatplotlibDeprecationWarning: Setting data with a non sequence type is deprecated since 3.7 and will be remove two minor releases later\n",
      "  redDot.set_data(i, np.sin(i))\n",
      "/var/folders/33/krstvgns2rncl74r18tkv6_80000gn/T/ipykernel_26604/3771949022.py:26: MatplotlibDeprecationWarning: Setting data with a non sequence type is deprecated since 3.7 and will be remove two minor releases later\n",
      "  redDot.set_data(i, np.sin(i))\n"
     ]
    }
   ],
   "source": [
    "# see https://stackoverflow.com/questions/56423221/saving-animated-matplotlib-chart-to-gif\n",
    "import os\n",
    "import numpy as np\n",
    "import matplotlib.pyplot as plt\n",
    "import matplotlib.animation as animation\n",
    "\n",
    "#%matplotlib qt\n",
    "# %matplotlib tk\n",
    "%matplotlib\n",
    "\n",
    "TWOPI = 2*np.pi\n",
    "\n",
    "fig, ax = plt.subplots()\n",
    "\n",
    "t = np.arange(0.0, TWOPI, 0.001)\n",
    "s = np.sin(t)\n",
    "l = plt.plot(t, s)\n",
    "\n",
    "ax = plt.axis([0,TWOPI,-1.1,1.1])\n",
    "\n",
    "redDot, = plt.plot([0], [np.sin(0)], 'ro')\n",
    "\n",
    "def animate(i):\n",
    "    '''\n",
    "    '''\n",
    "    redDot.set_data(i, np.sin(i)) \n",
    "    # got warning message \n",
    "    # seems later would not support this \n",
    "    return redDot,\n",
    "\n",
    "# create animation using the animate() function with no repeat\n",
    "myAnimation = animation.FuncAnimation(fig, animate, frames=np.arange(0.0, TWOPI, 0.03), \\\n",
    "                                      interval=100, blit=True, repeat=False)\n",
    "\n",
    "myAnimation.save('test-Gif-ok3U2Alex.gif', writer='pillow', fps=30)\n",
    "myAnimation.save('img/test-Gif-ok3Alex.gif', writer='pillow', fps=30)\n",
    "\n",
    "\n",
    "\n",
    "plt.show()\n",
    "\n",
    "# under iPad \n",
    "# <ipython-input-8-c07342f6b45b>:59: UserWarning: Matplotlib is currently using TkAgg, \n",
    "# which is a non-GUI backend, so cannot show the figure. plt.show()"
   ]
  },
  {
   "cell_type": "code",
   "execution_count": 2,
   "metadata": {},
   "outputs": [
    {
     "data": {
      "text/plain": [
       "<matplotlib.image.AxesImage at 0x1068a4ed0>"
      ]
     },
     "execution_count": 2,
     "metadata": {},
     "output_type": "execute_result"
    }
   ],
   "source": [
    "# in code cell\n",
    "\n",
    "import matplotlib.pyplot as plt\n",
    "import matplotlib.image as mpimg\n",
    "\n",
    "imgU = mpimg.imread(\"test-Gif-ok3U2Alex.gif\") # this work as well\n",
    "imgA = mpimg.imread(\"img/test-Gif-ok3Alex.gif\") # this work\n",
    "\n",
    "plt.imshow(imgU) \n",
    "plt.imshow(imgA) \n",
    "# only 1 img but if you just do one both work\n",
    "# but no animation under iPad Juno or MacOS"
   ]
  },
  {
   "cell_type": "markdown",
   "metadata": {},
   "source": [
    "\n",
    "## work\n",
    "\n",
    "[sf sample](https://stackoverflow.com/questions/51527868/how-do-i-embed-a-gif-in-jupyter-notebook)\n",
    "   \n",
    "\n",
    "![ChessUrl](https://upload.wikimedia.org/wikipedia/commons/7/71/ChessPawnSpecialMoves.gif \"chess\")\n",
    "\n",
    "\n",
    "![SegmentLocal3](./test-Gif-ok3U2Alex.gif \"segment\") \n",
    "\n",
    "![SegmentLocal3](img/test-Gif-ok3Alex.gif \"segment\")\n",
    "\n",
    "![SegmentLocal3](test-Gif-ok3U2Alex.gif \"segment\") \n"
   ]
  },
  {
   "cell_type": "code",
   "execution_count": 3,
   "metadata": {},
   "outputs": [
    {
     "name": "stdout",
     "output_type": "stream",
     "text": [
      "os.getcwd()='/Users/ngcchk/Documents/GitHub/gpd2-win-unity1/ipadred-rain/imgno_book1/imgnobk9'\n",
      "x='/Users/ngcchk/Documents/GitHub/gpd2-win-unity1/ipadred-rain/imgno_book1/imgnobk9'\n",
      "os.listdir(x)=['JB_logo.png', '.DS_Store', 'media copy', 'requirements.txt', 'imgnobk9References.bib', 'MacB9i-matlib-sample-animations.ipynb', 'Untitled.ipynb', 'MacB9c-test3.ipynb', 'MacB9e-test-Gif-ok.ipynb', 'introAnimate.md', 'MacB9-Animate.ipynb', 'nongui_backend.png', 'test-Gif-ok3U2Alex.gif', 'img', 'MacB9d-test-iter.ipynb', '_toc.yml', 'Less.png', '_build', '_config.yml', '.ipynb_checkpoints', 'MacB9e-test-Gif-ok-CopyForAlex.ipynb', 'MacB9f-test-Juno-2.ipynb', 'Mlp3-cook1.ipynb', 'main', 'MacB9h-DB7-sync.ipynb', 'MacB9b-TestPhyMSUanimate.ipynb']\n"
     ]
    }
   ],
   "source": [
    "import os\n",
    "x=os.getcwd()\n",
    "os.listdir(os.getcwd())\n",
    "print(f\"{os.getcwd()=}\")\n",
    "print(f\"{x=}\")\n",
    "print(f\"{os.listdir(x)=}\")\n",
    "\n"
   ]
  },
  {
   "cell_type": "code",
   "execution_count": 7,
   "metadata": {},
   "outputs": [
    {
     "name": "stdout",
     "output_type": "stream",
     "text": [
      "platform.system()='Darwin'\n",
      "platform.release()='22.6.0'\n",
      "platform.version()='Darwin Kernel Version 22.6.0: Wed Jul  5 22:22:52 PDT 2023; root:xnu-8796.141.3~6/RELEASE_ARM64_T8103'\n"
     ]
    },
    {
     "data": {
      "text/plain": [
       "\"\\nplatform.system()='Darwin'\\nplatform.release()='22.6.0'\\nplatform.version()='Darwin Kernel Version 22.6.0: Wed Jun 28 20:51:42 PDT 2023; root:xnu-8796.142.1~1/RELEASE_ARM64_T8020'\\n\""
      ]
     },
     "execution_count": 7,
     "metadata": {},
     "output_type": "execute_result"
    }
   ],
   "source": [
    "import platform\n",
    "print(f\"{platform.system()=}\")\n",
    "# may need in the future to handle os difference \n",
    "# but iPadOS and MacOS all report the same thing!!!\n",
    "# not sure about ultimate target jypyter notebook 2b test\n",
    "print(f\"{platform.release()=}\")\n",
    "print(f\"{platform.version()=}\")\n",
    "\n",
    "# ipad same as MacOS it seems though ... !!!\n",
    "'''\n",
    "platform.system()='Darwin'\n",
    "platform.release()='22.6.0'\n",
    "platform.version()='Darwin Kernel Version 22.6.0: Wed Jun 28 20:51:42 PDT 2023; root:xnu-8796.142.1~1/RELEASE_ARM64_T8020'\n",
    "'''"
   ]
  }
 ],
 "metadata": {
  "kernelspec": {
   "display_name": "Python 3 (ipykernel)",
   "language": "python",
   "name": "python3"
  },
  "language_info": {
   "codemirror_mode": {
    "name": "ipython",
    "version": 3
   },
   "file_extension": ".py",
   "mimetype": "text/x-python",
   "name": "python",
   "nbconvert_exporter": "python",
   "pygments_lexer": "ipython3",
   "version": "3.11.5"
  }
 },
 "nbformat": 4,
 "nbformat_minor": 4
}
