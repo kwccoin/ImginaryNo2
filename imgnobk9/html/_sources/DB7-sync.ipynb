{
 "cells": [
  {
   "cell_type": "markdown",
   "id": "c7e72059-fa33-4f3e-af5d-204698ed54af",
   "metadata": {},
   "source": [
    "# DB7-sync"
   ]
  },
  {
   "cell_type": "code",
   "execution_count": null,
   "id": "4da44eb8-a623-4a79-9f1e-98500ecd7ce7",
   "metadata": {},
   "outputs": [],
   "source": [
    "# 581.4 +\\\n",
    "# 96 +\\\n",
    "\n",
    "total = 123.2 +\\\n",
    "148.4 +\\\n",
    "63.6 +\\\n",
    "70.3 +\\\n",
    "379.2 +\\\n",
    "0774.9 +\\\n",
    "225.6 +\\\n",
    "39.2 +\\\n",
    "0103.6 +\\\n",
    "163.1 +\\\n",
    "318.5 +\\\n",
    "148 +\\\n",
    "20.2 +\\\n",
    "379.4 +\\\n",
    "94.1 +\\\n",
    "189.5 +\\\n",
    "332.8 +\\\n",
    "181.5 +\\\n",
    "489 +\\\n",
    "85.4 +\\\n",
    "99.7 +\\\n",
    "792 +\\\n",
    "172.7 +\\\n",
    "178.3 +\\\n",
    "0\n",
    "\n",
    "print(total)"
   ]
  }
 ],
 "metadata": {
  "kernelspec": {
   "display_name": "Python 3 (ipykernel)",
   "language": "python",
   "name": "python3"
  },
  "language_info": {
   "codemirror_mode": {
    "name": "ipython",
    "version": 3
   },
   "file_extension": ".py",
   "mimetype": "text/x-python",
   "name": "python",
   "nbconvert_exporter": "python",
   "pygments_lexer": "ipython3",
   "version": "3.11.5"
  }
 },
 "nbformat": 4,
 "nbformat_minor": 5
}
