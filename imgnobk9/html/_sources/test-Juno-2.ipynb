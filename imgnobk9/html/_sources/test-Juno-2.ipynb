{
 "cells": [
  {
   "cell_type": "markdown",
   "metadata": {},
   "source": [
    "# test-Juno-2 "
   ]
  },
  {
   "cell_type": "markdown",
   "metadata": {},
   "source": [
    "## Random text now...\n",
    "\n",
    "Meon is different as it involves not a ruler holding by moving observator. Instead we have a moving observator with a fixed ocean layer relative to earth obversort.\n",
    "\n",
    "effectively the spaceclike sude actualky maintain the length calculation using euclidian geometry or it draw an arc of $\\delta x_{0} = \\gamma x $\n",
    "\n",
    "the point on the $\\tilde{ct}$ line proper time dot follow hyperbola (as $s at x=0$ rotate against the curve $\\tilde{s}^{2} = (c\\tilde{t})^{2} - \\tilde{x}^{2})$. but the point of $\\tilde{x}$ at $\\tilde{x}$ follow $\\delta x_{0}$\n",
    "\n",
    "\n",
    "\n"
   ]
  }
 ],
 "metadata": {
  "kernelspec": {
   "display_name": "Python 3 (ipykernel)",
   "language": "python",
   "name": "python3"
  },
  "language_info": {
   "codemirror_mode": {
    "name": "ipython",
    "version": 3
   },
   "file_extension": ".py",
   "mimetype": "text/x-python",
   "name": "python",
   "nbconvert_exporter": "python",
   "pygments_lexer": "ipython3",
   "version": "3.11.5"
  }
 },
 "nbformat": 4,
 "nbformat_minor": 4
}
