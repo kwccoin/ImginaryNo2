{
 "cells": [
  {
   "cell_type": "markdown",
   "metadata": {},
   "source": [
    "# test-Gif-ok\n",
    "\n",
    "## Gif sample\n",
    "\n",
    "## mainly from matplotlib ..."
   ]
  },
  {
   "cell_type": "code",
   "execution_count": 8,
   "metadata": {},
   "outputs": [
    {
     "name": "stderr",
     "output_type": "stream",
     "text": [
      "<ipython-input-8-c07342f6b45b>:59: UserWarning: Matplotlib is currently using TkAgg, which is a non-GUI backend, so cannot show the figure.\n",
      "  plt.show()\n"
     ]
    }
   ],
   "source": [
    "# https://stackoverflow.com/questions/56423221/saving-animated-matplotlib-chart-to-gif\n",
    "import os\n",
    "import numpy as np\n",
    "import matplotlib.pyplot as plt\n",
    "import matplotlib.animation as animation\n",
    "from matplotlib import rcParams\n",
    "\n",
    "#%matplotlib qt\n",
    "#%matplotlib tk\n",
    "#%matplotlib\n",
    "\n",
    "# configure full path for ImageMagick\n",
    "# seems to work in iOS and macOS !!!\n",
    "\n",
    "#rcParams['animation.convert_path'] = r'/usr/bin/convert'\n",
    "\n",
    "TWOPI = 2*np.pi\n",
    "\n",
    "fig, ax = plt.subplots()\n",
    "\n",
    "t = np.arange(0.0, TWOPI, 0.001)\n",
    "s = np.sin(t)\n",
    "l = plt.plot(t, s)\n",
    "\n",
    "ax = plt.axis([0,TWOPI,-1.1,1.1])\n",
    "\n",
    "redDot, = plt.plot([0], [np.sin(0)], 'ro')\n",
    "\n",
    "def animate(i):\n",
    "    '''\n",
    "/var/folders/_y/zx724y_158bf6f_4nxr4dm540000gn/T/ipykernel_72553/3641039220.py:24: MatplotlibDeprecationWarning: Setting data with a non sequence type is deprecated since 3.7 and will be remove two minor releases later\n",
    "  redDot.set_data(i, np.sin(i))\n",
    "/var/folders/_y/zx724y_158bf6f_4nxr4dm540000gn/T/ipykernel_72553/3641039220.py:24: MatplotlibDeprecationWarning: Setting data with a non sequence type is deprecated since 3.7 and will be remove two minor releases later\n",
    "  redDot.set_data(i, np.sin(i))\n",
    "    '''\n",
    "    redDot.set_data(i, np.sin(i)) # seems later would not support this \n",
    "    return redDot,\n",
    "\n",
    "# create animation using the animate() function with no repeat\n",
    "myAnimation = animation.FuncAnimation(fig, animate, frames=np.arange(0.0, TWOPI, 0.03), \\\n",
    "                                      interval=100, blit=True, repeat=False)\n",
    "# 0.01 quit slow\n",
    "# 0.05 \n",
    "# save animation at 30 frames per second\n",
    "#myAnimation.save('myAnimation.gif', writer='imagemagick', fps=30)\n",
    "\n",
    "#plt.rcParams[\"figure.figsize\"] = [7.50, 3.50]\n",
    "#plt.rcParams[\"figure.autolayout\"] = True\n",
    "\n",
    "#dir_name = \"C:/Windows/Temp/\"\n",
    "#dir_name = \"image\"\n",
    "\n",
    "#plt.rcParams[\"savefig.directory\"] = os.chdir(os.path.dirname(dir_name))\n",
    "\n",
    "# myAnimation.save('img/test-Gif-ok.gif', writer='pillow', fps=30)\n",
    "myAnimation.save('test-Gif-ok2.gif', writer='pillow', fps=30)\n",
    "# seems default \n",
    "\n",
    "plt.show()"
   ]
  },
  {
   "cell_type": "code",
   "execution_count": 10,
   "metadata": {},
   "outputs": [
    {
     "data": {
      "text/plain": [
       "<matplotlib.image.AxesImage at 0x1306e3bb0>"
      ]
     },
     "execution_count": 10,
     "metadata": {},
     "output_type": "execute_result"
    }
   ],
   "source": [
    "# in code cell\n",
    "\n",
    "import matplotlib.pyplot as plt\n",
    "\n",
    "import matplotlib.image as mpimg\n",
    "\n",
    "#img = mpimg.imread(\"img/test-Gif-ok.gif\")\n",
    "img = mpimg.imread(\"test-Gif-ok2.gif\")\n",
    "\n",
    "plt.imshow(img) # but no animation"
   ]
  },
  {
   "cell_type": "code",
   "execution_count": 3,
   "metadata": {},
   "outputs": [],
   "source": [
    "## set working directory "
   ]
  },
  {
   "cell_type": "markdown",
   "metadata": {},
   "source": [
    "### in markdown one can try this:\n",
    "\n",
    "[sf sample](https://stackoverflow.com/questions/51527868/how-do-i-embed-a-gif-in-jupyter-notebook)\n",
    "\n",
    "![ChessUrl](https://upload.wikimedia.org/wikipedia/commons/7/71/ChessPawnSpecialMoves.gif \"chess\")\n",
    "\n",
    "\n",
    "### not working\n",
    "`\n",
    "\n",
    "    ![SegmentLocal](/Users/username/some-folder/191px-Seven_segment_display-animated.gif \"segment\")\n",
    "    ![SegmentLocal](\"img/Gif-ok.gif\" \"segment\")\n",
    "    [SegmentLocal](\"img/Gif-ok.gif\" \"segment\")\n",
    "\n",
    "     ![SegmentLocal](/private/var/mobile/Containers/Data/Application/2E20887D-C1B2-42E5-B5DB-BAC9039A68FE/Library/Caches/test-Gif-ok.gif \"segment\")\n",
    "\n",
    "    [SegmentLocal](img/test-Gif-ok.gif \"segment\")\n",
    "\n",
    "    [SegmentLocal](\"test-Gif-ok.gif\" \"segment\")\n",
    "`\n",
    "## work\n",
    "\n",
    "\n",
    "\n",
    "[sf sample](https://stackoverflow.com/questions/51527868/how-do-i-embed-a-gif-in-jupyter-notebook)\n",
    "   \n",
    "\n",
    "![ChessUrl](https://upload.wikimedia.org/wikipedia/commons/7/71/ChessPawnSpecialMoves.gif \"chess\")\n",
    "\n",
    "![SegmentLocal1](test-Gif-ok.gif \"segment\")\n",
    "\n",
    "![SegmentLocal2](img/test-Gif-ok.gif \"segment\")\n",
    "\n",
    "![SegmentLocal3](test-Gif-ok.gif \"segment\")"
   ]
  },
  {
   "cell_type": "code",
   "execution_count": 4,
   "metadata": {},
   "outputs": [
    {
     "name": "stdout",
     "output_type": "stream",
     "text": [
      "os.getcwd()='/Users/ngcchk/Documents/GitHub/gpd2-win-unity1/ipadred-rain/imgno_book1/imgnobk9'\n",
      "x='/Users/ngcchk/Documents/GitHub/gpd2-win-unity1/ipadred-rain/imgno_book1/imgnobk9'\n",
      "os.listdir(x)=['JB_logo.png', '.DS_Store', 'media copy', 'requirements.txt', 'imgnobk9References.bib', 'ani.gif', 'Untitled.ipynb', 'lines_4.mp4', 'MacB9c-test3.ipynb', 'teset_7_particle_box.mp4', 'MacB9e-test-Gif-ok.ipynb', 'introAnimate.md', 'MacB9-Animate.ipynb', 'nongui_backend.png', 'img', 'MacB9d-test-iter.ipynb', '_toc.yml', 'im_4.mp4', 'Less.png', '_build', '_config.yml', 'iter-ok1.gif', '.ipynb_checkpoints', 'test-Gif-ok.gif', 'MacB9f-test-Juno-2.ipynb', 'sine_wave.gif', 'Mlp3-cook1.ipynb', 'main', 'MacB9h-DB7-sync.ipynb', 'myAnimation.gif', 'MacB9b-TestPhyMSUanimate.ipynb']\n"
     ]
    }
   ],
   "source": [
    "import os\n",
    "x=os.getcwd()\n",
    "os.listdir(os.getcwd())\n",
    "print(f\"{os.getcwd()=}\")\n",
    "print(f\"{x=}\")\n",
    "print(f\"{os.listdir(x)=}\")\n",
    "\n"
   ]
  },
  {
   "cell_type": "code",
   "execution_count": 5,
   "metadata": {},
   "outputs": [
    {
     "name": "stdout",
     "output_type": "stream",
     "text": [
      "platform.system()='Darwin'\n",
      "platform.release()='22.6.0'\n",
      "platform.version()='Darwin Kernel Version 22.6.0: Wed Jul  5 22:22:52 PDT 2023; root:xnu-8796.141.3~6/RELEASE_ARM64_T8103'\n"
     ]
    },
    {
     "data": {
      "text/plain": [
       "\"\\nplatform.system()='Darwin'\\nplatform.release()='22.6.0'\\nplatform.version()='Darwin Kernel Version 22.6.0: Wed Jun 28 20:51:42 PDT 2023; root:xnu-8796.142.1~1/RELEASE_ARM64_T8020'\\n\""
      ]
     },
     "execution_count": 5,
     "metadata": {},
     "output_type": "execute_result"
    }
   ],
   "source": [
    "import platform\n",
    "print(f\"{platform.system()=}\")\n",
    "print(f\"{platform.release()=}\")\n",
    "print(f\"{platform.version()=}\")\n",
    "\n",
    "# ipad\n",
    "'''\n",
    "platform.system()='Darwin'\n",
    "platform.release()='22.6.0'\n",
    "platform.version()='Darwin Kernel Version 22.6.0: Wed Jun 28 20:51:42 PDT 2023; root:xnu-8796.142.1~1/RELEASE_ARM64_T8020'\n",
    "'''"
   ]
  }
 ],
 "metadata": {
  "kernelspec": {
   "display_name": "Python 3 (ipykernel)",
   "language": "python",
   "name": "python3"
  },
  "language_info": {
   "codemirror_mode": {
    "name": "ipython",
    "version": 3
   },
   "file_extension": ".py",
   "mimetype": "text/x-python",
   "name": "python",
   "nbconvert_exporter": "python",
   "pygments_lexer": "ipython3",
   "version": "3.11.5"
  }
 },
 "nbformat": 4,
 "nbformat_minor": 4
}
